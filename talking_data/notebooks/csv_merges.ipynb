{
 "nbformat": 4,
 "nbformat_minor": 2,
 "metadata": {
  "language_info": {
   "name": "python",
   "codemirror_mode": {
    "name": "ipython",
    "version": 3
   },
   "version": "3.7.5-final"
  },
  "orig_nbformat": 2,
  "file_extension": ".py",
  "mimetype": "text/x-python",
  "name": "python",
  "npconvert_exporter": "python",
  "pygments_lexer": "ipython3",
  "version": 3,
  "kernelspec": {
   "name": "python37464bitbasecondac86ed7dabb084956948bdff9f676797e",
   "display_name": "Python 3.7.4 64-bit ('base': conda)"
  }
 },
 "cells": [
  {
   "cell_type": "markdown",
   "execution_count": null,
   "metadata": {},
   "outputs": [],
   "source": [
    "Import csv files into pandas dataframes"
   ]
  },
  {
   "cell_type": "code",
   "execution_count": 2,
   "metadata": {},
   "outputs": [],
   "source": [
    "import pandas as pd\n",
    "import csv\n",
    "import numpy as np\n"
   ]
  },
  {
   "cell_type": "code",
   "execution_count": 3,
   "metadata": {},
   "outputs": [],
   "source": [
    "with open(r\"C:\\Priv\\Talkingdata\\phone_brand_device_model.csv\", encoding=\"utf8\") as csvfile:\n",
    "    pbd_model = pd.read_csv(csvfile, delimiter=\",\")"
   ]
  },
  {
   "cell_type": "code",
   "execution_count": 4,
   "metadata": {},
   "outputs": [],
   "source": [
    "label_categories = pd.read_csv(r\"C:\\Priv\\Talkingdata\\label_categories.csv\")"
   ]
  },
  {
   "cell_type": "code",
   "execution_count": 5,
   "metadata": {},
   "outputs": [],
   "source": [
    "events = app_events = pd.read_csv(r\"C:\\Priv\\Talkingdata\\events.csv\")"
   ]
  },
  {
   "cell_type": "code",
   "execution_count": 6,
   "metadata": {},
   "outputs": [],
   "source": [
    "app_labels = app_events = pd.read_csv(r\"C:\\Priv\\Talkingdata\\app_labels.csv\")"
   ]
  },
  {
   "cell_type": "code",
   "execution_count": 7,
   "metadata": {},
   "outputs": [],
   "source": [
    "app_events = pd.read_csv(r\"C:\\Priv\\Talkingdata\\app_events.csv\")"
   ]
  },
  {
   "cell_type": "code",
   "execution_count": 9,
   "metadata": {},
   "outputs": [
    {
     "name": "stdout",
     "output_type": "stream",
     "text": "device_id phone_brand   device_model\n0  -8890648629457979026      Xiaomi             红米\n1   1277779817574759137      Xiaomi           MI 2\n2   5137427614288105724     samsung      Galaxy S4\n3   3669464369358936369       SUGAR           时尚手机\n4  -5019277647504317457     samsung  Galaxy Note 2\n5   3238009352149731868      Huawei           Mate\n6  -3883532755183027260      Xiaomi          MI 2S\n7  -2972199645857147708      Huawei          G610S\n8  -5827952925479472594      Xiaomi    MI One Plus\n9  -8262508968076336275        vivo            S7I\n10  5840378295166286440     samsung      Galaxy S3\n11 -5776341595519925628      Xiaomi          MI 2A\n12  3437705102632680210     samsung      Galaxy S3\n13 -3568334676360016285     samsung      Galaxy S3\n14   556978549708484782      Xiaomi           MI 2\n15  5694497738268412307      Xiaomi           MI 3\n16  6327116114284382479      Huawei      G520-0000\n17   773248989809697210        vivo          X5Pro\n18  -686020914357018824      Xiaomi          MI 2S\n19  6936613487637228956       Meizu            MX2\n20 -3875043166283300758     samsung  Galaxy Note 2\n21 -6964140211214884922      Xiaomi          MI 2S\n22   -30236203766311351      Xiaomi          MI 2S\n23  4887985552773989409        vivo          Xplay\n24  7206202610070842107     samsung  Galaxy Note 2\n25   -39620037751344714      Xiaomi          MI 2S\n26  7223189369472462826     Coolpad           7270\n27 -3998002640294516352      Ktouch        Touch 3\n28  2527845705328727233        OPPO          R2017\n29 -3157952721100703520     samsung  Galaxy Note 2\n30 -6083057230710001248         ZTE           795+\n31 -4083221898711926203     Coolpad         大神Note\n32 -4523542780146466405        vivo            Y3T\n33 -5913071468598874323     samsung          S7566\n34 -2339363715932966819      Xiaomi    MI One Plus\n35  4106908628505542038      Gionee         GN708W\n36  -613324030015638453      lenovo      乐檬K3 Note\n37 -2943457097948271624     samsung  Galaxy Note 2\n38 -8617503367917252519     samsung      Galaxy S4\n39  8749105586608216142      Xiaomi          MI 1S\n40  1170363371146351661      lenovo          A820t\n41 -5155397683752679020      Huawei           荣耀3C\n42  3933889243973057197      Xiaomi             红米\n43  7257880420181554729      Xiaomi          MI 2A\n44  1234582813120123953     samsung      Galaxy S2\n45 -4733939105220796309     samsung      Galaxy S4\n46  8879737470175624918      Xiaomi          MI 2A\n47 -8763379009069417607     hisense          EG966\n48 -1183635331565164049     samsung      Galaxy S2\n49  3379712123596745643      Xiaomi             红米\n"
    }
   ],
   "source": [
    "english_phone_brands_mapping = {\n",
    "    \"三星\": \"samsung\",\n",
    "    \"天语\": \"Ktouch\",\n",
    "    \"海信\": \"hisense\",\n",
    "    \"联想\": \"lenovo\",\n",
    "    \"欧比\": \"obi\",\n",
    "    \"爱派尔\": \"ipair\",\n",
    "    \"努比亚\": \"nubia\",\n",
    "    \"优米\": \"youmi\",\n",
    "    \"朵唯\": \"dowe\",\n",
    "    \"黑米\": \"heymi\",\n",
    "    \"锤子\": \"hammer\",\n",
    "    \"酷比魔方\": \"koobee\",\n",
    "    \"美图\": \"meitu\",\n",
    "    \"尼比鲁\": \"nibilu\",\n",
    "    \"一加\": \"oneplus\",\n",
    "    \"优购\": \"yougo\",\n",
    "    \"诺基亚\": \"nokia\",\n",
    "    \"糖葫芦\": \"candy\",\n",
    "    \"中国移动\": \"ccmc\",\n",
    "    \"语信\": \"yuxin\",\n",
    "    \"基伍\": \"kiwu\",\n",
    "    \"青橙\": \"greeno\",\n",
    "    \"华硕\": \"asus\",\n",
    "    \"夏新\": \"panosonic\",\n",
    "    \"维图\": \"weitu\",\n",
    "    \"艾优尼\": \"aiyouni\",\n",
    "    \"摩托罗拉\": \"moto\",\n",
    "    \"乡米\": \"xiangmi\",\n",
    "    \"米奇\": \"micky\",\n",
    "    \"大可乐\": \"bigcola\",\n",
    "    \"沃普丰\": \"wpf\",\n",
    "    \"神舟\": \"hasse\",\n",
    "    \"摩乐\": \"mole\",\n",
    "    \"飞秒\": \"fs\",\n",
    "    \"米歌\": \"mige\",\n",
    "    \"富可视\": \"fks\",\n",
    "    \"德赛\": \"desci\",\n",
    "    \"梦米\": \"mengmi\",\n",
    "    \"乐视\": \"lshi\",\n",
    "    \"小杨树\": \"smallt\",\n",
    "    \"纽曼\": \"newman\",\n",
    "    \"邦华\": \"banghua\",\n",
    "    \"E派\": \"epai\",\n",
    "    \"易派\": \"epai\",\n",
    "    \"普耐尔\": \"pner\",\n",
    "    \"欧新\": \"ouxin\",\n",
    "    \"西米\": \"ximi\",\n",
    "    \"海尔\": \"haier\",\n",
    "    \"波导\": \"bodao\",\n",
    "    \"糯米\": \"nuomi\",\n",
    "    \"唯米\": \"weimi\",\n",
    "    \"酷珀\": \"kupo\",\n",
    "    \"谷歌\": \"google\",\n",
    "    \"昂达\": \"ada\",\n",
    "    \"聆韵\": \"lingyun\",\n",
    "    \"小米\": \"Xiaomi\",\n",
    "    \"华为\": \"Huawei\",\n",
    "    \"魅族\": \"Meizu\",\n",
    "    \"中兴\": \"ZTE\",\n",
    "    \"酷派\": \"Coolpad\",\n",
    "    \"金立\": \"Gionee\",\n",
    "    \"SUGAR\": \"SUGAR\",\n",
    "    \"OPPO\": \"OPPO\",\n",
    "    \"vivo\": \"vivo\",\n",
    "    \"HTC\": \"HTC\",\n",
    "    \"LG\": \"LG\",\n",
    "    \"ZUK\": \"ZUK\",\n",
    "    \"TCL\": \"TCL\",\n",
    "    \"LOGO\": \"LOGO\",\n",
    "    \"SUGAR\": \"SUGAR\",\n",
    "    \"Lovme\": \"Lovme\",\n",
    "    \"PPTV\": \"PPTV\",\n",
    "    \"ZOYE\": \"ZOYE\",\n",
    "    \"MIL\": \"MIL\",\n",
    "    \"索尼\" : \"Sony\",\n",
    "    \"欧博信\" : \"Opssom\",\n",
    "    \"奇酷\" : \"Qiku\",\n",
    "    \"酷比\" : \"CUBE\",\n",
    "    \"康佳\" : \"Konka\",\n",
    "    \"亿通\" : \"Yitong\",\n",
    "    \"金星数码\" : \"JXD\",\n",
    "    \"至尊宝\" : \"Monkey King\",\n",
    "    \"百立丰\" : \"Hundred Li Feng\",\n",
    "    \"贝尔丰\" : \"Bifer\",\n",
    "    \"百加\" : \"Bacardi\",\n",
    "    \"诺亚信\" : \"Noain\",\n",
    "    \"广信\" : \"Kingsun\",\n",
    "    \"世纪天元\" : \"Ctyon\",\n",
    "    \"青葱\" : \"Cong\",\n",
    "    \"果米\" : \"Taobao\",\n",
    "    \"斐讯\" : \"Phicomm\",\n",
    "    \"长虹\" : \"Changhong\",\n",
    "    \"欧奇\" : \"Oukimobile\",\n",
    "    \"先锋\" : \"XFPLAY\",\n",
    "    \"台电\" : \"Teclast\",\n",
    "    \"大Q\" : \"Daq\",\n",
    "    \"蓝魔\" : \"Ramos\",\n",
    "    \"奥克斯\" : \"AUX\"\n",
    "}\n",
    "\n",
    "\n",
    "pbd_model.phone_brand = pbd_model.phone_brand.map(pd.Series(english_phone_brands_mapping), na_action='ignore')\n",
    "print(pbd_model.head(n=50))"
   ]
  },
  {
   "cell_type": "markdown",
   "metadata": {},
   "source": [
    "Merge dataframes into one"
   ]
  },
  {
   "cell_type": "code",
   "execution_count": 21,
   "metadata": {},
   "outputs": [],
   "source": [
    "eventsmerged = pd.merge(events, app_events, on=\"event_id\", how= \"inner\")"
   ]
  },
  {
   "cell_type": "code",
   "execution_count": 25,
   "metadata": {},
   "outputs": [],
   "source": [
    "eventsmerged = pd.merge(eventsmerged, app_labels, on=\"app_id\", how= \"inner\")"
   ]
  },
  {
   "cell_type": "code",
   "execution_count": 34,
   "metadata": {},
   "outputs": [],
   "source": [
    "pbd_model=pbd_model.drop(axis=1, columns=\"device_model\")"
   ]
  },
  {
   "cell_type": "code",
   "execution_count": 27,
   "metadata": {},
   "outputs": [],
   "source": [
    "eventsmerged = pd.merge(eventsmerged, label_categories, on=\"label_id\", how= \"inner\")"
   ]
  },
  {
   "cell_type": "code",
   "execution_count": 41,
   "metadata": {},
   "outputs": [],
   "source": [
    "eventsmerged = pd.merge(eventsmerged, pbd_model, on=\"device_id\", how= \"inner\")"
   ]
  },
  {
   "cell_type": "code",
   "execution_count": null,
   "metadata": {},
   "outputs": [],
   "source": []
  }
 ]
}