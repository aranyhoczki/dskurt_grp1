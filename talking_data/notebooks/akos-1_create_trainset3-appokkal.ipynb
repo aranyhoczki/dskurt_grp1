{
 "cells": [
  {
   "cell_type": "code",
   "execution_count": 1,
   "metadata": {},
   "outputs": [],
   "source": [
    "import pandas as pd  # pandas\n",
    "import numpy as np\n",
    "import matplotlib.pyplot as plt\n",
    "%matplotlib inline"
   ]
  },
  {
   "cell_type": "code",
   "execution_count": 2,
   "metadata": {},
   "outputs": [],
   "source": [
    "# a akos-0_label_counts.ipynb altal előállított label_categories_with_counts_2.csv-t hasznalva train set-et csinál\n",
    "# a max_label mondja meg, hogy az első X label-t tegye bele a train-be\n",
    "# \n",
    "max_label = 50\n",
    "min_app_cou = 60000\n",
    "output_dataset_name = \"../datasets/train1_50labels_withdaytimes_app60000.csv\""
   ]
  },
  {
   "cell_type": "markdown",
   "metadata": {},
   "source": [
    "# Adatbázis séma (Diagram)"
   ]
  },
  {
   "cell_type": "markdown",
   "metadata": {},
   "source": [
    "<img src=\"table_diagram.png\">"
   ]
  },
  {
   "cell_type": "markdown",
   "metadata": {},
   "source": [
    "# Adattáblák"
   ]
  },
  {
   "cell_type": "markdown",
   "metadata": {},
   "source": [
    "## events"
   ]
  },
  {
   "cell_type": "code",
   "execution_count": 3,
   "metadata": {},
   "outputs": [],
   "source": [
    "events = pd.read_csv(\"../datasets/events.csv\", sep=\",\")"
   ]
  },
  {
   "cell_type": "code",
   "execution_count": 4,
   "metadata": {},
   "outputs": [
    {
     "data": {
      "text/html": [
       "<div>\n",
       "<style scoped>\n",
       "    .dataframe tbody tr th:only-of-type {\n",
       "        vertical-align: middle;\n",
       "    }\n",
       "\n",
       "    .dataframe tbody tr th {\n",
       "        vertical-align: top;\n",
       "    }\n",
       "\n",
       "    .dataframe thead th {\n",
       "        text-align: right;\n",
       "    }\n",
       "</style>\n",
       "<table border=\"1\" class=\"dataframe\">\n",
       "  <thead>\n",
       "    <tr style=\"text-align: right;\">\n",
       "      <th></th>\n",
       "      <th>event_id</th>\n",
       "      <th>device_id</th>\n",
       "      <th>timestamp</th>\n",
       "      <th>longitude</th>\n",
       "      <th>latitude</th>\n",
       "    </tr>\n",
       "  </thead>\n",
       "  <tbody>\n",
       "    <tr>\n",
       "      <th>0</th>\n",
       "      <td>1</td>\n",
       "      <td>29182687948017175</td>\n",
       "      <td>2016-05-01 00:55:25</td>\n",
       "      <td>121.38</td>\n",
       "      <td>31.24</td>\n",
       "    </tr>\n",
       "    <tr>\n",
       "      <th>1</th>\n",
       "      <td>2</td>\n",
       "      <td>-6401643145415154744</td>\n",
       "      <td>2016-05-01 00:54:12</td>\n",
       "      <td>103.65</td>\n",
       "      <td>30.97</td>\n",
       "    </tr>\n",
       "    <tr>\n",
       "      <th>2</th>\n",
       "      <td>3</td>\n",
       "      <td>-4833982096941402721</td>\n",
       "      <td>2016-05-01 00:08:05</td>\n",
       "      <td>106.60</td>\n",
       "      <td>29.70</td>\n",
       "    </tr>\n",
       "    <tr>\n",
       "      <th>3</th>\n",
       "      <td>4</td>\n",
       "      <td>-6815121365017318426</td>\n",
       "      <td>2016-05-01 00:06:40</td>\n",
       "      <td>104.27</td>\n",
       "      <td>23.28</td>\n",
       "    </tr>\n",
       "    <tr>\n",
       "      <th>4</th>\n",
       "      <td>5</td>\n",
       "      <td>-5373797595892518570</td>\n",
       "      <td>2016-05-01 00:07:18</td>\n",
       "      <td>115.88</td>\n",
       "      <td>28.66</td>\n",
       "    </tr>\n",
       "  </tbody>\n",
       "</table>\n",
       "</div>"
      ],
      "text/plain": [
       "   event_id            device_id            timestamp  longitude  latitude\n",
       "0         1    29182687948017175  2016-05-01 00:55:25     121.38     31.24\n",
       "1         2 -6401643145415154744  2016-05-01 00:54:12     103.65     30.97\n",
       "2         3 -4833982096941402721  2016-05-01 00:08:05     106.60     29.70\n",
       "3         4 -6815121365017318426  2016-05-01 00:06:40     104.27     23.28\n",
       "4         5 -5373797595892518570  2016-05-01 00:07:18     115.88     28.66"
      ]
     },
     "execution_count": 4,
     "metadata": {},
     "output_type": "execute_result"
    }
   ],
   "source": [
    "events.head()"
   ]
  },
  {
   "cell_type": "code",
   "execution_count": 5,
   "metadata": {},
   "outputs": [
    {
     "data": {
      "text/plain": [
       "event_id     3252950\n",
       "device_id    3252950\n",
       "timestamp    3252950\n",
       "longitude    3252950\n",
       "latitude     3252950\n",
       "dtype: int64"
      ]
     },
     "execution_count": 5,
     "metadata": {},
     "output_type": "execute_result"
    }
   ],
   "source": [
    "events.count()"
   ]
  },
  {
   "cell_type": "markdown",
   "metadata": {},
   "source": [
    "## gender_age_train"
   ]
  },
  {
   "cell_type": "code",
   "execution_count": null,
   "metadata": {},
   "outputs": [],
   "source": []
  },
  {
   "cell_type": "code",
   "execution_count": 6,
   "metadata": {},
   "outputs": [],
   "source": [
    "gender_age_train = pd.read_csv(\"../datasets/gender_age_train.csv\", sep=\",\")"
   ]
  },
  {
   "cell_type": "code",
   "execution_count": 7,
   "metadata": {},
   "outputs": [
    {
     "data": {
      "text/html": [
       "<div>\n",
       "<style scoped>\n",
       "    .dataframe tbody tr th:only-of-type {\n",
       "        vertical-align: middle;\n",
       "    }\n",
       "\n",
       "    .dataframe tbody tr th {\n",
       "        vertical-align: top;\n",
       "    }\n",
       "\n",
       "    .dataframe thead th {\n",
       "        text-align: right;\n",
       "    }\n",
       "</style>\n",
       "<table border=\"1\" class=\"dataframe\">\n",
       "  <thead>\n",
       "    <tr style=\"text-align: right;\">\n",
       "      <th></th>\n",
       "      <th>device_id</th>\n",
       "      <th>gender</th>\n",
       "      <th>age</th>\n",
       "      <th>group</th>\n",
       "    </tr>\n",
       "  </thead>\n",
       "  <tbody>\n",
       "    <tr>\n",
       "      <th>0</th>\n",
       "      <td>-8076087639492063270</td>\n",
       "      <td>M</td>\n",
       "      <td>35</td>\n",
       "      <td>M32-38</td>\n",
       "    </tr>\n",
       "    <tr>\n",
       "      <th>1</th>\n",
       "      <td>-2897161552818060146</td>\n",
       "      <td>M</td>\n",
       "      <td>35</td>\n",
       "      <td>M32-38</td>\n",
       "    </tr>\n",
       "    <tr>\n",
       "      <th>2</th>\n",
       "      <td>-8260683887967679142</td>\n",
       "      <td>M</td>\n",
       "      <td>35</td>\n",
       "      <td>M32-38</td>\n",
       "    </tr>\n",
       "    <tr>\n",
       "      <th>3</th>\n",
       "      <td>-4938849341048082022</td>\n",
       "      <td>M</td>\n",
       "      <td>30</td>\n",
       "      <td>M29-31</td>\n",
       "    </tr>\n",
       "    <tr>\n",
       "      <th>4</th>\n",
       "      <td>245133531816851882</td>\n",
       "      <td>M</td>\n",
       "      <td>30</td>\n",
       "      <td>M29-31</td>\n",
       "    </tr>\n",
       "  </tbody>\n",
       "</table>\n",
       "</div>"
      ],
      "text/plain": [
       "             device_id gender  age   group\n",
       "0 -8076087639492063270      M   35  M32-38\n",
       "1 -2897161552818060146      M   35  M32-38\n",
       "2 -8260683887967679142      M   35  M32-38\n",
       "3 -4938849341048082022      M   30  M29-31\n",
       "4   245133531816851882      M   30  M29-31"
      ]
     },
     "execution_count": 7,
     "metadata": {},
     "output_type": "execute_result"
    }
   ],
   "source": [
    "gender_age_train.head()"
   ]
  },
  {
   "cell_type": "code",
   "execution_count": 8,
   "metadata": {},
   "outputs": [
    {
     "data": {
      "text/plain": [
       "device_id    74645\n",
       "gender       74645\n",
       "age          74645\n",
       "group        74645\n",
       "dtype: int64"
      ]
     },
     "execution_count": 8,
     "metadata": {},
     "output_type": "execute_result"
    }
   ],
   "source": [
    "gender_age_train.count()"
   ]
  },
  {
   "cell_type": "code",
   "execution_count": 9,
   "metadata": {},
   "outputs": [
    {
     "data": {
      "text/plain": [
       "group\n",
       "F23-      5050\n",
       "F24-26    4190\n",
       "F27-28    3118\n",
       "F29-32    4628\n",
       "F33-42    5561\n",
       "F43+      4194\n",
       "M22-      7488\n",
       "M23-26    9605\n",
       "M27-28    5445\n",
       "M29-31    7309\n",
       "M32-38    9476\n",
       "M39+      8581\n",
       "Name: device_id, dtype: int64"
      ]
     },
     "execution_count": 9,
     "metadata": {},
     "output_type": "execute_result"
    }
   ],
   "source": [
    "gender_age_train.groupby('group')['device_id'].count()"
   ]
  },
  {
   "cell_type": "code",
   "execution_count": 10,
   "metadata": {},
   "outputs": [
    {
     "data": {
      "text/plain": [
       "gender\n",
       "F    26741\n",
       "M    47904\n",
       "Name: device_id, dtype: int64"
      ]
     },
     "execution_count": 10,
     "metadata": {},
     "output_type": "execute_result"
    }
   ],
   "source": [
    "gender_age_train.groupby('gender')['device_id'].count()"
   ]
  },
  {
   "cell_type": "markdown",
   "metadata": {},
   "source": [
    "## phone_brand_device_model"
   ]
  },
  {
   "cell_type": "code",
   "execution_count": 11,
   "metadata": {},
   "outputs": [],
   "source": [
    "phone_brand_device_model = pd.read_csv(\"../datasets/phone_brand_device_model.csv\", sep=\",\")"
   ]
  },
  {
   "cell_type": "code",
   "execution_count": 12,
   "metadata": {},
   "outputs": [
    {
     "data": {
      "text/html": [
       "<div>\n",
       "<style scoped>\n",
       "    .dataframe tbody tr th:only-of-type {\n",
       "        vertical-align: middle;\n",
       "    }\n",
       "\n",
       "    .dataframe tbody tr th {\n",
       "        vertical-align: top;\n",
       "    }\n",
       "\n",
       "    .dataframe thead th {\n",
       "        text-align: right;\n",
       "    }\n",
       "</style>\n",
       "<table border=\"1\" class=\"dataframe\">\n",
       "  <thead>\n",
       "    <tr style=\"text-align: right;\">\n",
       "      <th></th>\n",
       "      <th>device_id</th>\n",
       "      <th>phone_brand</th>\n",
       "      <th>device_model</th>\n",
       "    </tr>\n",
       "  </thead>\n",
       "  <tbody>\n",
       "    <tr>\n",
       "      <th>0</th>\n",
       "      <td>-8890648629457979026</td>\n",
       "      <td>小米</td>\n",
       "      <td>红米</td>\n",
       "    </tr>\n",
       "    <tr>\n",
       "      <th>1</th>\n",
       "      <td>1277779817574759137</td>\n",
       "      <td>小米</td>\n",
       "      <td>MI 2</td>\n",
       "    </tr>\n",
       "    <tr>\n",
       "      <th>2</th>\n",
       "      <td>5137427614288105724</td>\n",
       "      <td>三星</td>\n",
       "      <td>Galaxy S4</td>\n",
       "    </tr>\n",
       "    <tr>\n",
       "      <th>3</th>\n",
       "      <td>3669464369358936369</td>\n",
       "      <td>SUGAR</td>\n",
       "      <td>时尚手机</td>\n",
       "    </tr>\n",
       "    <tr>\n",
       "      <th>4</th>\n",
       "      <td>-5019277647504317457</td>\n",
       "      <td>三星</td>\n",
       "      <td>Galaxy Note 2</td>\n",
       "    </tr>\n",
       "  </tbody>\n",
       "</table>\n",
       "</div>"
      ],
      "text/plain": [
       "             device_id phone_brand   device_model\n",
       "0 -8890648629457979026          小米             红米\n",
       "1  1277779817574759137          小米           MI 2\n",
       "2  5137427614288105724          三星      Galaxy S4\n",
       "3  3669464369358936369       SUGAR           时尚手机\n",
       "4 -5019277647504317457          三星  Galaxy Note 2"
      ]
     },
     "execution_count": 12,
     "metadata": {},
     "output_type": "execute_result"
    }
   ],
   "source": [
    "phone_brand_device_model.head()"
   ]
  },
  {
   "cell_type": "code",
   "execution_count": 13,
   "metadata": {},
   "outputs": [],
   "source": [
    "# a kínai márkákat lefordítjuk..."
   ]
  },
  {
   "cell_type": "code",
   "execution_count": 14,
   "metadata": {},
   "outputs": [],
   "source": [
    "translate = pd.read_csv(\"../datasets/translate.csv\", sep=\",\")"
   ]
  },
  {
   "cell_type": "code",
   "execution_count": 15,
   "metadata": {},
   "outputs": [
    {
     "data": {
      "text/html": [
       "<div>\n",
       "<style scoped>\n",
       "    .dataframe tbody tr th:only-of-type {\n",
       "        vertical-align: middle;\n",
       "    }\n",
       "\n",
       "    .dataframe tbody tr th {\n",
       "        vertical-align: top;\n",
       "    }\n",
       "\n",
       "    .dataframe thead th {\n",
       "        text-align: right;\n",
       "    }\n",
       "</style>\n",
       "<table border=\"1\" class=\"dataframe\">\n",
       "  <thead>\n",
       "    <tr style=\"text-align: right;\">\n",
       "      <th></th>\n",
       "      <th>phone_brand</th>\n",
       "      <th>phone_brand_eng</th>\n",
       "    </tr>\n",
       "  </thead>\n",
       "  <tbody>\n",
       "    <tr>\n",
       "      <th>0</th>\n",
       "      <td>三星</td>\n",
       "      <td>samsung</td>\n",
       "    </tr>\n",
       "    <tr>\n",
       "      <th>1</th>\n",
       "      <td>天语</td>\n",
       "      <td>Ktouch</td>\n",
       "    </tr>\n",
       "    <tr>\n",
       "      <th>2</th>\n",
       "      <td>海信</td>\n",
       "      <td>hisense</td>\n",
       "    </tr>\n",
       "    <tr>\n",
       "      <th>3</th>\n",
       "      <td>联想</td>\n",
       "      <td>lenovo</td>\n",
       "    </tr>\n",
       "    <tr>\n",
       "      <th>4</th>\n",
       "      <td>欧比</td>\n",
       "      <td>obi</td>\n",
       "    </tr>\n",
       "  </tbody>\n",
       "</table>\n",
       "</div>"
      ],
      "text/plain": [
       "  phone_brand phone_brand_eng\n",
       "0          三星         samsung\n",
       "1          天语          Ktouch\n",
       "2          海信         hisense\n",
       "3          联想          lenovo\n",
       "4          欧比             obi"
      ]
     },
     "execution_count": 15,
     "metadata": {},
     "output_type": "execute_result"
    }
   ],
   "source": [
    "translate.head()"
   ]
  },
  {
   "cell_type": "code",
   "execution_count": 16,
   "metadata": {},
   "outputs": [],
   "source": [
    "phone_brand_device_model= phone_brand_device_model.merge(translate,on='phone_brand',how='right')"
   ]
  },
  {
   "cell_type": "code",
   "execution_count": 17,
   "metadata": {},
   "outputs": [
    {
     "data": {
      "text/html": [
       "<div>\n",
       "<style scoped>\n",
       "    .dataframe tbody tr th:only-of-type {\n",
       "        vertical-align: middle;\n",
       "    }\n",
       "\n",
       "    .dataframe tbody tr th {\n",
       "        vertical-align: top;\n",
       "    }\n",
       "\n",
       "    .dataframe thead th {\n",
       "        text-align: right;\n",
       "    }\n",
       "</style>\n",
       "<table border=\"1\" class=\"dataframe\">\n",
       "  <thead>\n",
       "    <tr style=\"text-align: right;\">\n",
       "      <th></th>\n",
       "      <th>device_id</th>\n",
       "      <th>phone_brand</th>\n",
       "      <th>device_model</th>\n",
       "      <th>phone_brand_eng</th>\n",
       "    </tr>\n",
       "  </thead>\n",
       "  <tbody>\n",
       "    <tr>\n",
       "      <th>0</th>\n",
       "      <td>-8890648629457979026</td>\n",
       "      <td>小米</td>\n",
       "      <td>红米</td>\n",
       "      <td>Xiaomi</td>\n",
       "    </tr>\n",
       "    <tr>\n",
       "      <th>1</th>\n",
       "      <td>1277779817574759137</td>\n",
       "      <td>小米</td>\n",
       "      <td>MI 2</td>\n",
       "      <td>Xiaomi</td>\n",
       "    </tr>\n",
       "    <tr>\n",
       "      <th>2</th>\n",
       "      <td>-3883532755183027260</td>\n",
       "      <td>小米</td>\n",
       "      <td>MI 2S</td>\n",
       "      <td>Xiaomi</td>\n",
       "    </tr>\n",
       "    <tr>\n",
       "      <th>3</th>\n",
       "      <td>-5827952925479472594</td>\n",
       "      <td>小米</td>\n",
       "      <td>MI One Plus</td>\n",
       "      <td>Xiaomi</td>\n",
       "    </tr>\n",
       "    <tr>\n",
       "      <th>4</th>\n",
       "      <td>-5776341595519925628</td>\n",
       "      <td>小米</td>\n",
       "      <td>MI 2A</td>\n",
       "      <td>Xiaomi</td>\n",
       "    </tr>\n",
       "  </tbody>\n",
       "</table>\n",
       "</div>"
      ],
      "text/plain": [
       "             device_id phone_brand device_model phone_brand_eng\n",
       "0 -8890648629457979026          小米           红米          Xiaomi\n",
       "1  1277779817574759137          小米         MI 2          Xiaomi\n",
       "2 -3883532755183027260          小米        MI 2S          Xiaomi\n",
       "3 -5827952925479472594          小米  MI One Plus          Xiaomi\n",
       "4 -5776341595519925628          小米        MI 2A          Xiaomi"
      ]
     },
     "execution_count": 17,
     "metadata": {},
     "output_type": "execute_result"
    }
   ],
   "source": [
    "phone_brand_device_model.head()"
   ]
  },
  {
   "cell_type": "code",
   "execution_count": 18,
   "metadata": {},
   "outputs": [],
   "source": [
    "# ha tobb van, akkor csak az elsot hagyjuk meg...\n",
    "phone_brand_device_model = phone_brand_device_model.drop_duplicates('device_id',keep='first').set_index('device_id')"
   ]
  },
  {
   "cell_type": "markdown",
   "metadata": {},
   "source": [
    "## app_events"
   ]
  },
  {
   "cell_type": "code",
   "execution_count": 19,
   "metadata": {},
   "outputs": [],
   "source": [
    "app_events = pd.read_csv(\"../datasets/app_events.csv\", sep=\",\")"
   ]
  },
  {
   "cell_type": "code",
   "execution_count": 20,
   "metadata": {},
   "outputs": [
    {
     "data": {
      "text/html": [
       "<div>\n",
       "<style scoped>\n",
       "    .dataframe tbody tr th:only-of-type {\n",
       "        vertical-align: middle;\n",
       "    }\n",
       "\n",
       "    .dataframe tbody tr th {\n",
       "        vertical-align: top;\n",
       "    }\n",
       "\n",
       "    .dataframe thead th {\n",
       "        text-align: right;\n",
       "    }\n",
       "</style>\n",
       "<table border=\"1\" class=\"dataframe\">\n",
       "  <thead>\n",
       "    <tr style=\"text-align: right;\">\n",
       "      <th></th>\n",
       "      <th>event_id</th>\n",
       "      <th>app_id</th>\n",
       "      <th>is_installed</th>\n",
       "      <th>is_active</th>\n",
       "    </tr>\n",
       "  </thead>\n",
       "  <tbody>\n",
       "    <tr>\n",
       "      <th>0</th>\n",
       "      <td>2</td>\n",
       "      <td>5927333115845830913</td>\n",
       "      <td>1</td>\n",
       "      <td>1</td>\n",
       "    </tr>\n",
       "    <tr>\n",
       "      <th>1</th>\n",
       "      <td>2</td>\n",
       "      <td>-5720078949152207372</td>\n",
       "      <td>1</td>\n",
       "      <td>0</td>\n",
       "    </tr>\n",
       "    <tr>\n",
       "      <th>2</th>\n",
       "      <td>2</td>\n",
       "      <td>-1633887856876571208</td>\n",
       "      <td>1</td>\n",
       "      <td>0</td>\n",
       "    </tr>\n",
       "    <tr>\n",
       "      <th>3</th>\n",
       "      <td>2</td>\n",
       "      <td>-653184325010919369</td>\n",
       "      <td>1</td>\n",
       "      <td>1</td>\n",
       "    </tr>\n",
       "    <tr>\n",
       "      <th>4</th>\n",
       "      <td>2</td>\n",
       "      <td>8693964245073640147</td>\n",
       "      <td>1</td>\n",
       "      <td>1</td>\n",
       "    </tr>\n",
       "  </tbody>\n",
       "</table>\n",
       "</div>"
      ],
      "text/plain": [
       "   event_id               app_id  is_installed  is_active\n",
       "0         2  5927333115845830913             1          1\n",
       "1         2 -5720078949152207372             1          0\n",
       "2         2 -1633887856876571208             1          0\n",
       "3         2  -653184325010919369             1          1\n",
       "4         2  8693964245073640147             1          1"
      ]
     },
     "execution_count": 20,
     "metadata": {},
     "output_type": "execute_result"
    }
   ],
   "source": [
    "app_events.head()"
   ]
  },
  {
   "cell_type": "code",
   "execution_count": 21,
   "metadata": {},
   "outputs": [
    {
     "data": {
      "text/plain": [
       "event_id        32473067\n",
       "app_id          32473067\n",
       "is_installed    32473067\n",
       "is_active       32473067\n",
       "dtype: int64"
      ]
     },
     "execution_count": 21,
     "metadata": {},
     "output_type": "execute_result"
    }
   ],
   "source": [
    "app_events.count()"
   ]
  },
  {
   "cell_type": "code",
   "execution_count": 22,
   "metadata": {},
   "outputs": [
    {
     "data": {
      "text/plain": [
       "1488096"
      ]
     },
     "execution_count": 22,
     "metadata": {},
     "output_type": "execute_result"
    }
   ],
   "source": [
    "app_events.groupby('event_id')['app_id'].agg('count').count()"
   ]
  },
  {
   "cell_type": "code",
   "execution_count": 23,
   "metadata": {},
   "outputs": [],
   "source": [
    "# osszesen 1488096 db esemény van, ahhoz van 32473067 alkalmazás esemény "
   ]
  },
  {
   "cell_type": "code",
   "execution_count": null,
   "metadata": {},
   "outputs": [],
   "source": []
  },
  {
   "cell_type": "markdown",
   "metadata": {},
   "source": [
    "## app_labels"
   ]
  },
  {
   "cell_type": "code",
   "execution_count": 24,
   "metadata": {},
   "outputs": [],
   "source": [
    "app_labels = pd.read_csv(\"../datasets/app_labels.csv\", sep=\",\")"
   ]
  },
  {
   "cell_type": "code",
   "execution_count": 25,
   "metadata": {},
   "outputs": [
    {
     "data": {
      "text/html": [
       "<div>\n",
       "<style scoped>\n",
       "    .dataframe tbody tr th:only-of-type {\n",
       "        vertical-align: middle;\n",
       "    }\n",
       "\n",
       "    .dataframe tbody tr th {\n",
       "        vertical-align: top;\n",
       "    }\n",
       "\n",
       "    .dataframe thead th {\n",
       "        text-align: right;\n",
       "    }\n",
       "</style>\n",
       "<table border=\"1\" class=\"dataframe\">\n",
       "  <thead>\n",
       "    <tr style=\"text-align: right;\">\n",
       "      <th></th>\n",
       "      <th>app_id</th>\n",
       "      <th>label_id</th>\n",
       "    </tr>\n",
       "  </thead>\n",
       "  <tbody>\n",
       "    <tr>\n",
       "      <th>0</th>\n",
       "      <td>7324884708820027918</td>\n",
       "      <td>251</td>\n",
       "    </tr>\n",
       "    <tr>\n",
       "      <th>1</th>\n",
       "      <td>-4494216993218550286</td>\n",
       "      <td>251</td>\n",
       "    </tr>\n",
       "    <tr>\n",
       "      <th>2</th>\n",
       "      <td>6058196446775239644</td>\n",
       "      <td>406</td>\n",
       "    </tr>\n",
       "    <tr>\n",
       "      <th>3</th>\n",
       "      <td>6058196446775239644</td>\n",
       "      <td>407</td>\n",
       "    </tr>\n",
       "    <tr>\n",
       "      <th>4</th>\n",
       "      <td>8694625920731541625</td>\n",
       "      <td>406</td>\n",
       "    </tr>\n",
       "  </tbody>\n",
       "</table>\n",
       "</div>"
      ],
      "text/plain": [
       "                app_id  label_id\n",
       "0  7324884708820027918       251\n",
       "1 -4494216993218550286       251\n",
       "2  6058196446775239644       406\n",
       "3  6058196446775239644       407\n",
       "4  8694625920731541625       406"
      ]
     },
     "execution_count": 25,
     "metadata": {},
     "output_type": "execute_result"
    }
   ],
   "source": [
    "app_labels.head()"
   ]
  },
  {
   "cell_type": "code",
   "execution_count": 26,
   "metadata": {},
   "outputs": [
    {
     "data": {
      "text/plain": [
       "app_id      459943\n",
       "label_id    459943\n",
       "dtype: int64"
      ]
     },
     "execution_count": 26,
     "metadata": {},
     "output_type": "execute_result"
    }
   ],
   "source": [
    "app_labels.count()"
   ]
  },
  {
   "cell_type": "code",
   "execution_count": null,
   "metadata": {},
   "outputs": [],
   "source": []
  },
  {
   "cell_type": "markdown",
   "metadata": {},
   "source": [
    "## label_categories"
   ]
  },
  {
   "cell_type": "code",
   "execution_count": 27,
   "metadata": {},
   "outputs": [],
   "source": [
    "label_categories = pd.read_csv(\"../datasets/label_categories.csv\", sep=\",\")"
   ]
  },
  {
   "cell_type": "code",
   "execution_count": 28,
   "metadata": {},
   "outputs": [
    {
     "data": {
      "text/html": [
       "<div>\n",
       "<style scoped>\n",
       "    .dataframe tbody tr th:only-of-type {\n",
       "        vertical-align: middle;\n",
       "    }\n",
       "\n",
       "    .dataframe tbody tr th {\n",
       "        vertical-align: top;\n",
       "    }\n",
       "\n",
       "    .dataframe thead th {\n",
       "        text-align: right;\n",
       "    }\n",
       "</style>\n",
       "<table border=\"1\" class=\"dataframe\">\n",
       "  <thead>\n",
       "    <tr style=\"text-align: right;\">\n",
       "      <th></th>\n",
       "      <th>label_id</th>\n",
       "      <th>category</th>\n",
       "    </tr>\n",
       "  </thead>\n",
       "  <tbody>\n",
       "    <tr>\n",
       "      <th>0</th>\n",
       "      <td>1</td>\n",
       "      <td>NaN</td>\n",
       "    </tr>\n",
       "    <tr>\n",
       "      <th>1</th>\n",
       "      <td>2</td>\n",
       "      <td>game-game type</td>\n",
       "    </tr>\n",
       "    <tr>\n",
       "      <th>2</th>\n",
       "      <td>3</td>\n",
       "      <td>game-Game themes</td>\n",
       "    </tr>\n",
       "    <tr>\n",
       "      <th>3</th>\n",
       "      <td>4</td>\n",
       "      <td>game-Art Style</td>\n",
       "    </tr>\n",
       "    <tr>\n",
       "      <th>4</th>\n",
       "      <td>5</td>\n",
       "      <td>game-Leisure time</td>\n",
       "    </tr>\n",
       "  </tbody>\n",
       "</table>\n",
       "</div>"
      ],
      "text/plain": [
       "   label_id           category\n",
       "0         1                NaN\n",
       "1         2     game-game type\n",
       "2         3   game-Game themes\n",
       "3         4     game-Art Style\n",
       "4         5  game-Leisure time"
      ]
     },
     "execution_count": 28,
     "metadata": {},
     "output_type": "execute_result"
    }
   ],
   "source": [
    "label_categories.head()"
   ]
  },
  {
   "cell_type": "code",
   "execution_count": 29,
   "metadata": {},
   "outputs": [
    {
     "data": {
      "text/plain": [
       "label_id    930\n",
       "category    927\n",
       "dtype: int64"
      ]
     },
     "execution_count": 29,
     "metadata": {},
     "output_type": "execute_result"
    }
   ],
   "source": [
    "label_categories.count()"
   ]
  },
  {
   "cell_type": "code",
   "execution_count": 30,
   "metadata": {},
   "outputs": [],
   "source": [
    "# itt van 3 sor NaN. Igazából szerintem nem számít."
   ]
  },
  {
   "cell_type": "code",
   "execution_count": null,
   "metadata": {},
   "outputs": [],
   "source": []
  },
  {
   "cell_type": "code",
   "execution_count": null,
   "metadata": {},
   "outputs": [],
   "source": []
  },
  {
   "cell_type": "markdown",
   "metadata": {},
   "source": [
    "# Adatok előkészítése"
   ]
  },
  {
   "cell_type": "code",
   "execution_count": null,
   "metadata": {},
   "outputs": [],
   "source": []
  },
  {
   "cell_type": "markdown",
   "metadata": {},
   "source": [
    "Szerintem feladatok:\n",
    "    - a gender_age_train össze kellene join-olni a phone_brand_device_modellel\n",
    "    - ugyancsak a gender_age_train-t össze kell join-olni az events-app_events-app_labels -en keresztül a label_categories-vel\n",
    "    - a label kategória dummy változó lenne. A problémám, hogy itt akkro  930 db lenne...\n",
    "    - bemenő változók: márka, alkalmazás label dummy. Célváltozó: group\n"
   ]
  },
  {
   "cell_type": "markdown",
   "metadata": {},
   "source": [
    "## Label counts"
   ]
  },
  {
   "cell_type": "markdown",
   "metadata": {},
   "source": [
    "itt külön notebookban megszámoltam és elmentettem az egyes label-ek számosságát"
   ]
  },
  {
   "cell_type": "code",
   "execution_count": 31,
   "metadata": {},
   "outputs": [],
   "source": [
    "label_categories = pd.read_csv(\"../datasets/label_categories_with_counts_2.csv\", sep=\",\")"
   ]
  },
  {
   "cell_type": "code",
   "execution_count": 32,
   "metadata": {},
   "outputs": [],
   "source": [
    "label_categories = label_categories.sort_values(\"all_cou\", ascending=0)"
   ]
  },
  {
   "cell_type": "code",
   "execution_count": 33,
   "metadata": {},
   "outputs": [],
   "source": [
    "label_categories[\"label_id_use\"] = label_categories[\"label_id\"] "
   ]
  },
  {
   "cell_type": "code",
   "execution_count": 34,
   "metadata": {},
   "outputs": [],
   "source": [
    "label_array = []"
   ]
  },
  {
   "cell_type": "code",
   "execution_count": 35,
   "metadata": {},
   "outputs": [],
   "source": [
    "for a in range(0,max_label):\n",
    "    label_array.append(\"label_%d\"%a)\n"
   ]
  },
  {
   "cell_type": "code",
   "execution_count": 36,
   "metadata": {},
   "outputs": [],
   "source": [
    "for a in range(max_label, len(label_categories)):\n",
    "    label_categories.at[a, 'label_id_use'] = 22222"
   ]
  },
  {
   "cell_type": "code",
   "execution_count": 37,
   "metadata": {},
   "outputs": [],
   "source": [
    "# A label_id_use-ban az elso max_label helyen ott van a tenyleges id, a tobbi esetben egy gyujto: 22222"
   ]
  },
  {
   "cell_type": "code",
   "execution_count": 38,
   "metadata": {},
   "outputs": [
    {
     "data": {
      "text/html": [
       "<div>\n",
       "<style scoped>\n",
       "    .dataframe tbody tr th:only-of-type {\n",
       "        vertical-align: middle;\n",
       "    }\n",
       "\n",
       "    .dataframe tbody tr th {\n",
       "        vertical-align: top;\n",
       "    }\n",
       "\n",
       "    .dataframe thead th {\n",
       "        text-align: right;\n",
       "    }\n",
       "</style>\n",
       "<table border=\"1\" class=\"dataframe\">\n",
       "  <thead>\n",
       "    <tr style=\"text-align: right;\">\n",
       "      <th></th>\n",
       "      <th>Unnamed: 0</th>\n",
       "      <th>label_id</th>\n",
       "      <th>category</th>\n",
       "      <th>not_active_cou</th>\n",
       "      <th>active_cou</th>\n",
       "      <th>all_cou</th>\n",
       "      <th>label_id_use</th>\n",
       "    </tr>\n",
       "  </thead>\n",
       "  <tbody>\n",
       "    <tr>\n",
       "      <th>0</th>\n",
       "      <td>489</td>\n",
       "      <td>548</td>\n",
       "      <td>Industry tag</td>\n",
       "      <td>14394096.0</td>\n",
       "      <td>9846501.0</td>\n",
       "      <td>24240597.0</td>\n",
       "      <td>548</td>\n",
       "    </tr>\n",
       "    <tr>\n",
       "      <th>1</th>\n",
       "      <td>629</td>\n",
       "      <td>704</td>\n",
       "      <td>Property Industry 2.0</td>\n",
       "      <td>10017203.0</td>\n",
       "      <td>6807461.0</td>\n",
       "      <td>16824664.0</td>\n",
       "      <td>704</td>\n",
       "    </tr>\n",
       "    <tr>\n",
       "      <th>2</th>\n",
       "      <td>490</td>\n",
       "      <td>549</td>\n",
       "      <td>Property Industry 1.0</td>\n",
       "      <td>7567242.0</td>\n",
       "      <td>6113200.0</td>\n",
       "      <td>13680442.0</td>\n",
       "      <td>549</td>\n",
       "    </tr>\n",
       "    <tr>\n",
       "      <th>3</th>\n",
       "      <td>359</td>\n",
       "      <td>405</td>\n",
       "      <td>Custom label</td>\n",
       "      <td>5902239.0</td>\n",
       "      <td>2337647.0</td>\n",
       "      <td>8239886.0</td>\n",
       "      <td>405</td>\n",
       "    </tr>\n",
       "    <tr>\n",
       "      <th>4</th>\n",
       "      <td>638</td>\n",
       "      <td>713</td>\n",
       "      <td>Services 1</td>\n",
       "      <td>5084162.0</td>\n",
       "      <td>3098384.0</td>\n",
       "      <td>8182546.0</td>\n",
       "      <td>713</td>\n",
       "    </tr>\n",
       "  </tbody>\n",
       "</table>\n",
       "</div>"
      ],
      "text/plain": [
       "   Unnamed: 0  label_id               category  not_active_cou  active_cou  \\\n",
       "0         489       548           Industry tag      14394096.0   9846501.0   \n",
       "1         629       704  Property Industry 2.0      10017203.0   6807461.0   \n",
       "2         490       549  Property Industry 1.0       7567242.0   6113200.0   \n",
       "3         359       405           Custom label       5902239.0   2337647.0   \n",
       "4         638       713             Services 1       5084162.0   3098384.0   \n",
       "\n",
       "      all_cou  label_id_use  \n",
       "0  24240597.0           548  \n",
       "1  16824664.0           704  \n",
       "2  13680442.0           549  \n",
       "3   8239886.0           405  \n",
       "4   8182546.0           713  "
      ]
     },
     "execution_count": 38,
     "metadata": {},
     "output_type": "execute_result"
    }
   ],
   "source": [
    "label_categories.head()"
   ]
  },
  {
   "cell_type": "markdown",
   "metadata": {},
   "source": [
    "# app_label merge"
   ]
  },
  {
   "cell_type": "code",
   "execution_count": 39,
   "metadata": {},
   "outputs": [],
   "source": [
    "# az app_labels-be beleteszuk a label_id_use-t\n",
    "app_labels = app_labels.merge(label_categories, on=\"label_id\", how=\"left\")"
   ]
  },
  {
   "cell_type": "code",
   "execution_count": 40,
   "metadata": {},
   "outputs": [
    {
     "data": {
      "text/html": [
       "<div>\n",
       "<style scoped>\n",
       "    .dataframe tbody tr th:only-of-type {\n",
       "        vertical-align: middle;\n",
       "    }\n",
       "\n",
       "    .dataframe tbody tr th {\n",
       "        vertical-align: top;\n",
       "    }\n",
       "\n",
       "    .dataframe thead th {\n",
       "        text-align: right;\n",
       "    }\n",
       "</style>\n",
       "<table border=\"1\" class=\"dataframe\">\n",
       "  <thead>\n",
       "    <tr style=\"text-align: right;\">\n",
       "      <th></th>\n",
       "      <th>app_id</th>\n",
       "      <th>label_id</th>\n",
       "      <th>Unnamed: 0</th>\n",
       "      <th>category</th>\n",
       "      <th>not_active_cou</th>\n",
       "      <th>active_cou</th>\n",
       "      <th>all_cou</th>\n",
       "      <th>label_id_use</th>\n",
       "    </tr>\n",
       "  </thead>\n",
       "  <tbody>\n",
       "    <tr>\n",
       "      <th>0</th>\n",
       "      <td>7324884708820027918</td>\n",
       "      <td>251</td>\n",
       "      <td>232</td>\n",
       "      <td>Finance</td>\n",
       "      <td>3518798.0</td>\n",
       "      <td>1484275.0</td>\n",
       "      <td>5003073.0</td>\n",
       "      <td>251</td>\n",
       "    </tr>\n",
       "    <tr>\n",
       "      <th>1</th>\n",
       "      <td>-4494216993218550286</td>\n",
       "      <td>251</td>\n",
       "      <td>232</td>\n",
       "      <td>Finance</td>\n",
       "      <td>3518798.0</td>\n",
       "      <td>1484275.0</td>\n",
       "      <td>5003073.0</td>\n",
       "      <td>251</td>\n",
       "    </tr>\n",
       "    <tr>\n",
       "      <th>2</th>\n",
       "      <td>6058196446775239644</td>\n",
       "      <td>406</td>\n",
       "      <td>360</td>\n",
       "      <td>unknown</td>\n",
       "      <td>523546.0</td>\n",
       "      <td>204958.0</td>\n",
       "      <td>728504.0</td>\n",
       "      <td>22222</td>\n",
       "    </tr>\n",
       "    <tr>\n",
       "      <th>3</th>\n",
       "      <td>6058196446775239644</td>\n",
       "      <td>407</td>\n",
       "      <td>361</td>\n",
       "      <td>DS_P2P net loan</td>\n",
       "      <td>523546.0</td>\n",
       "      <td>204958.0</td>\n",
       "      <td>728504.0</td>\n",
       "      <td>22222</td>\n",
       "    </tr>\n",
       "    <tr>\n",
       "      <th>4</th>\n",
       "      <td>8694625920731541625</td>\n",
       "      <td>406</td>\n",
       "      <td>360</td>\n",
       "      <td>unknown</td>\n",
       "      <td>523546.0</td>\n",
       "      <td>204958.0</td>\n",
       "      <td>728504.0</td>\n",
       "      <td>22222</td>\n",
       "    </tr>\n",
       "  </tbody>\n",
       "</table>\n",
       "</div>"
      ],
      "text/plain": [
       "                app_id  label_id  Unnamed: 0         category  not_active_cou  \\\n",
       "0  7324884708820027918       251         232          Finance       3518798.0   \n",
       "1 -4494216993218550286       251         232          Finance       3518798.0   \n",
       "2  6058196446775239644       406         360          unknown        523546.0   \n",
       "3  6058196446775239644       407         361  DS_P2P net loan        523546.0   \n",
       "4  8694625920731541625       406         360          unknown        523546.0   \n",
       "\n",
       "   active_cou    all_cou  label_id_use  \n",
       "0   1484275.0  5003073.0           251  \n",
       "1   1484275.0  5003073.0           251  \n",
       "2    204958.0   728504.0         22222  \n",
       "3    204958.0   728504.0         22222  \n",
       "4    204958.0   728504.0         22222  "
      ]
     },
     "execution_count": 40,
     "metadata": {},
     "output_type": "execute_result"
    }
   ],
   "source": [
    "app_labels.head()"
   ]
  },
  {
   "cell_type": "code",
   "execution_count": null,
   "metadata": {},
   "outputs": [],
   "source": []
  },
  {
   "cell_type": "code",
   "execution_count": 41,
   "metadata": {},
   "outputs": [
    {
     "data": {
      "text/html": [
       "<div>\n",
       "<style scoped>\n",
       "    .dataframe tbody tr th:only-of-type {\n",
       "        vertical-align: middle;\n",
       "    }\n",
       "\n",
       "    .dataframe tbody tr th {\n",
       "        vertical-align: top;\n",
       "    }\n",
       "\n",
       "    .dataframe thead th {\n",
       "        text-align: right;\n",
       "    }\n",
       "</style>\n",
       "<table border=\"1\" class=\"dataframe\">\n",
       "  <thead>\n",
       "    <tr style=\"text-align: right;\">\n",
       "      <th></th>\n",
       "      <th>app_id</th>\n",
       "      <th>label_id_original</th>\n",
       "      <th>Unnamed: 0</th>\n",
       "      <th>category</th>\n",
       "      <th>not_active_cou</th>\n",
       "      <th>active_cou</th>\n",
       "      <th>all_cou</th>\n",
       "      <th>label_id</th>\n",
       "    </tr>\n",
       "  </thead>\n",
       "  <tbody>\n",
       "    <tr>\n",
       "      <th>0</th>\n",
       "      <td>7324884708820027918</td>\n",
       "      <td>251</td>\n",
       "      <td>232</td>\n",
       "      <td>Finance</td>\n",
       "      <td>3518798.0</td>\n",
       "      <td>1484275.0</td>\n",
       "      <td>5003073.0</td>\n",
       "      <td>251</td>\n",
       "    </tr>\n",
       "    <tr>\n",
       "      <th>1</th>\n",
       "      <td>-4494216993218550286</td>\n",
       "      <td>251</td>\n",
       "      <td>232</td>\n",
       "      <td>Finance</td>\n",
       "      <td>3518798.0</td>\n",
       "      <td>1484275.0</td>\n",
       "      <td>5003073.0</td>\n",
       "      <td>251</td>\n",
       "    </tr>\n",
       "    <tr>\n",
       "      <th>2</th>\n",
       "      <td>6058196446775239644</td>\n",
       "      <td>406</td>\n",
       "      <td>360</td>\n",
       "      <td>unknown</td>\n",
       "      <td>523546.0</td>\n",
       "      <td>204958.0</td>\n",
       "      <td>728504.0</td>\n",
       "      <td>22222</td>\n",
       "    </tr>\n",
       "    <tr>\n",
       "      <th>3</th>\n",
       "      <td>6058196446775239644</td>\n",
       "      <td>407</td>\n",
       "      <td>361</td>\n",
       "      <td>DS_P2P net loan</td>\n",
       "      <td>523546.0</td>\n",
       "      <td>204958.0</td>\n",
       "      <td>728504.0</td>\n",
       "      <td>22222</td>\n",
       "    </tr>\n",
       "    <tr>\n",
       "      <th>4</th>\n",
       "      <td>8694625920731541625</td>\n",
       "      <td>406</td>\n",
       "      <td>360</td>\n",
       "      <td>unknown</td>\n",
       "      <td>523546.0</td>\n",
       "      <td>204958.0</td>\n",
       "      <td>728504.0</td>\n",
       "      <td>22222</td>\n",
       "    </tr>\n",
       "  </tbody>\n",
       "</table>\n",
       "</div>"
      ],
      "text/plain": [
       "                app_id  label_id_original  Unnamed: 0         category  \\\n",
       "0  7324884708820027918                251         232          Finance   \n",
       "1 -4494216993218550286                251         232          Finance   \n",
       "2  6058196446775239644                406         360          unknown   \n",
       "3  6058196446775239644                407         361  DS_P2P net loan   \n",
       "4  8694625920731541625                406         360          unknown   \n",
       "\n",
       "   not_active_cou  active_cou    all_cou  label_id  \n",
       "0       3518798.0   1484275.0  5003073.0       251  \n",
       "1       3518798.0   1484275.0  5003073.0       251  \n",
       "2        523546.0    204958.0   728504.0     22222  \n",
       "3        523546.0    204958.0   728504.0     22222  \n",
       "4        523546.0    204958.0   728504.0     22222  "
      ]
     },
     "execution_count": 41,
     "metadata": {},
     "output_type": "execute_result"
    }
   ],
   "source": [
    "# a label_id_use legyen a label_id\n",
    "app_labels.rename(columns={\"label_id\": \"label_id_original\", \"label_id_use\":\"label_id\"}, inplace=True)\n",
    "app_labels.head()\n"
   ]
  },
  {
   "cell_type": "markdown",
   "metadata": {},
   "source": [
    "# Appok számlálása"
   ]
  },
  {
   "cell_type": "code",
   "execution_count": null,
   "metadata": {},
   "outputs": [],
   "source": []
  },
  {
   "cell_type": "code",
   "execution_count": 42,
   "metadata": {},
   "outputs": [
    {
     "data": {
      "text/html": [
       "<div>\n",
       "<style scoped>\n",
       "    .dataframe tbody tr th:only-of-type {\n",
       "        vertical-align: middle;\n",
       "    }\n",
       "\n",
       "    .dataframe tbody tr th {\n",
       "        vertical-align: top;\n",
       "    }\n",
       "\n",
       "    .dataframe thead th {\n",
       "        text-align: right;\n",
       "    }\n",
       "</style>\n",
       "<table border=\"1\" class=\"dataframe\">\n",
       "  <thead>\n",
       "    <tr style=\"text-align: right;\">\n",
       "      <th></th>\n",
       "      <th>event_id</th>\n",
       "      <th>device_id</th>\n",
       "      <th>timestamp</th>\n",
       "      <th>longitude</th>\n",
       "      <th>latitude</th>\n",
       "    </tr>\n",
       "  </thead>\n",
       "  <tbody>\n",
       "    <tr>\n",
       "      <th>0</th>\n",
       "      <td>1</td>\n",
       "      <td>29182687948017175</td>\n",
       "      <td>2016-05-01 00:55:25</td>\n",
       "      <td>121.38</td>\n",
       "      <td>31.24</td>\n",
       "    </tr>\n",
       "    <tr>\n",
       "      <th>1</th>\n",
       "      <td>2</td>\n",
       "      <td>-6401643145415154744</td>\n",
       "      <td>2016-05-01 00:54:12</td>\n",
       "      <td>103.65</td>\n",
       "      <td>30.97</td>\n",
       "    </tr>\n",
       "    <tr>\n",
       "      <th>2</th>\n",
       "      <td>3</td>\n",
       "      <td>-4833982096941402721</td>\n",
       "      <td>2016-05-01 00:08:05</td>\n",
       "      <td>106.60</td>\n",
       "      <td>29.70</td>\n",
       "    </tr>\n",
       "    <tr>\n",
       "      <th>3</th>\n",
       "      <td>4</td>\n",
       "      <td>-6815121365017318426</td>\n",
       "      <td>2016-05-01 00:06:40</td>\n",
       "      <td>104.27</td>\n",
       "      <td>23.28</td>\n",
       "    </tr>\n",
       "    <tr>\n",
       "      <th>4</th>\n",
       "      <td>5</td>\n",
       "      <td>-5373797595892518570</td>\n",
       "      <td>2016-05-01 00:07:18</td>\n",
       "      <td>115.88</td>\n",
       "      <td>28.66</td>\n",
       "    </tr>\n",
       "  </tbody>\n",
       "</table>\n",
       "</div>"
      ],
      "text/plain": [
       "   event_id            device_id            timestamp  longitude  latitude\n",
       "0         1    29182687948017175  2016-05-01 00:55:25     121.38     31.24\n",
       "1         2 -6401643145415154744  2016-05-01 00:54:12     103.65     30.97\n",
       "2         3 -4833982096941402721  2016-05-01 00:08:05     106.60     29.70\n",
       "3         4 -6815121365017318426  2016-05-01 00:06:40     104.27     23.28\n",
       "4         5 -5373797595892518570  2016-05-01 00:07:18     115.88     28.66"
      ]
     },
     "execution_count": 42,
     "metadata": {},
     "output_type": "execute_result"
    }
   ],
   "source": [
    "events.head()"
   ]
  },
  {
   "cell_type": "code",
   "execution_count": 43,
   "metadata": {
    "scrolled": true
   },
   "outputs": [
    {
     "data": {
      "text/html": [
       "<div>\n",
       "<style scoped>\n",
       "    .dataframe tbody tr th:only-of-type {\n",
       "        vertical-align: middle;\n",
       "    }\n",
       "\n",
       "    .dataframe tbody tr th {\n",
       "        vertical-align: top;\n",
       "    }\n",
       "\n",
       "    .dataframe thead th {\n",
       "        text-align: right;\n",
       "    }\n",
       "</style>\n",
       "<table border=\"1\" class=\"dataframe\">\n",
       "  <thead>\n",
       "    <tr style=\"text-align: right;\">\n",
       "      <th></th>\n",
       "      <th>event_id</th>\n",
       "      <th>app_id</th>\n",
       "      <th>is_installed</th>\n",
       "      <th>is_active</th>\n",
       "    </tr>\n",
       "  </thead>\n",
       "  <tbody>\n",
       "    <tr>\n",
       "      <th>0</th>\n",
       "      <td>2</td>\n",
       "      <td>5927333115845830913</td>\n",
       "      <td>1</td>\n",
       "      <td>1</td>\n",
       "    </tr>\n",
       "    <tr>\n",
       "      <th>1</th>\n",
       "      <td>2</td>\n",
       "      <td>-5720078949152207372</td>\n",
       "      <td>1</td>\n",
       "      <td>0</td>\n",
       "    </tr>\n",
       "    <tr>\n",
       "      <th>2</th>\n",
       "      <td>2</td>\n",
       "      <td>-1633887856876571208</td>\n",
       "      <td>1</td>\n",
       "      <td>0</td>\n",
       "    </tr>\n",
       "    <tr>\n",
       "      <th>3</th>\n",
       "      <td>2</td>\n",
       "      <td>-653184325010919369</td>\n",
       "      <td>1</td>\n",
       "      <td>1</td>\n",
       "    </tr>\n",
       "    <tr>\n",
       "      <th>4</th>\n",
       "      <td>2</td>\n",
       "      <td>8693964245073640147</td>\n",
       "      <td>1</td>\n",
       "      <td>1</td>\n",
       "    </tr>\n",
       "  </tbody>\n",
       "</table>\n",
       "</div>"
      ],
      "text/plain": [
       "   event_id               app_id  is_installed  is_active\n",
       "0         2  5927333115845830913             1          1\n",
       "1         2 -5720078949152207372             1          0\n",
       "2         2 -1633887856876571208             1          0\n",
       "3         2  -653184325010919369             1          1\n",
       "4         2  8693964245073640147             1          1"
      ]
     },
     "execution_count": 43,
     "metadata": {},
     "output_type": "execute_result"
    }
   ],
   "source": [
    "app_events.head()"
   ]
  },
  {
   "cell_type": "code",
   "execution_count": null,
   "metadata": {},
   "outputs": [],
   "source": []
  },
  {
   "cell_type": "code",
   "execution_count": 44,
   "metadata": {},
   "outputs": [
    {
     "data": {
      "text/html": [
       "<div>\n",
       "<style scoped>\n",
       "    .dataframe tbody tr th:only-of-type {\n",
       "        vertical-align: middle;\n",
       "    }\n",
       "\n",
       "    .dataframe tbody tr th {\n",
       "        vertical-align: top;\n",
       "    }\n",
       "\n",
       "    .dataframe thead th {\n",
       "        text-align: right;\n",
       "    }\n",
       "</style>\n",
       "<table border=\"1\" class=\"dataframe\">\n",
       "  <thead>\n",
       "    <tr style=\"text-align: right;\">\n",
       "      <th></th>\n",
       "      <th>cou</th>\n",
       "    </tr>\n",
       "    <tr>\n",
       "      <th>app_id</th>\n",
       "      <th></th>\n",
       "    </tr>\n",
       "  </thead>\n",
       "  <tbody>\n",
       "    <tr>\n",
       "      <th>-9221156934682287334</th>\n",
       "      <td>21</td>\n",
       "    </tr>\n",
       "    <tr>\n",
       "      <th>-9220899153371182692</th>\n",
       "      <td>25</td>\n",
       "    </tr>\n",
       "    <tr>\n",
       "      <th>-9218487885271516150</th>\n",
       "      <td>2</td>\n",
       "    </tr>\n",
       "    <tr>\n",
       "      <th>-9218487885267037129</th>\n",
       "      <td>6</td>\n",
       "    </tr>\n",
       "    <tr>\n",
       "      <th>-9218310540360546691</th>\n",
       "      <td>38</td>\n",
       "    </tr>\n",
       "  </tbody>\n",
       "</table>\n",
       "</div>"
      ],
      "text/plain": [
       "                      cou\n",
       "app_id                   \n",
       "-9221156934682287334   21\n",
       "-9220899153371182692   25\n",
       "-9218487885271516150    2\n",
       "-9218487885267037129    6\n",
       "-9218310540360546691   38"
      ]
     },
     "execution_count": 44,
     "metadata": {},
     "output_type": "execute_result"
    }
   ],
   "source": [
    "app_events_count = app_events.groupby(\"app_id\")[ [\"event_id\"] ].count()\n",
    "app_events_count.rename(columns={\"event_id\":\"cou\"}, inplace=True)\n",
    "app_events_count.head()"
   ]
  },
  {
   "cell_type": "code",
   "execution_count": 45,
   "metadata": {},
   "outputs": [],
   "source": [
    "app_events_count = app_events_count[app_events_count[\"cou\"] > min_app_cou].sort_values(by=\"cou\", ascending=False)"
   ]
  },
  {
   "cell_type": "code",
   "execution_count": 46,
   "metadata": {},
   "outputs": [
    {
     "data": {
      "text/plain": [
       "cou    93\n",
       "dtype: int64"
      ]
     },
     "execution_count": 46,
     "metadata": {},
     "output_type": "execute_result"
    }
   ],
   "source": [
    "app_events_count.count()"
   ]
  },
  {
   "cell_type": "code",
   "execution_count": null,
   "metadata": {},
   "outputs": [],
   "source": []
  },
  {
   "cell_type": "markdown",
   "metadata": {},
   "source": [
    "## Tanító1 -  esemény szám + label számosság"
   ]
  },
  {
   "cell_type": "markdown",
   "metadata": {},
   "source": [
    "egy olyan df-et hozunk létre, ahol minden device-hez ott van, hogy milyen típusú alkalmazás label-ek vannak, milyen a tipusu keszuleke van es hany esemenye.\n",
    "Magyarázó oszlopok:\n",
    "- events_num : mennyi esemenye volt\n",
    "- lavel_x : az alkalmazasok (aktiv + installed kulon ) label-jei\n",
    "- phone_brand\n",
    "- device_model\n",
    "- events_per_day :events_num / (max_timestamp - min timestamp) * 60*60*24  - eseményszám osztva a napok szamaval\n",
    "- min_timestamp : mikor volt az első eseménye\n",
    "- max_timestamp : mikor volt az utolsó eseménye\n",
    "- weekday/weekend_morning/daytime/evening/night - események szerint"
   ]
  },
  {
   "cell_type": "code",
   "execution_count": 47,
   "metadata": {},
   "outputs": [],
   "source": [
    "def checkIfInDOWANdHours(t, dow=[5,6], hours=[22,23,0,1,2,3,4,5]):\n",
    "    if pd.to_datetime(t).weekday() not in dow:\n",
    "        return 0\n",
    "    if pd.to_datetime(t).hour not in hours:\n",
    "        return 0\n",
    "    return 1"
   ]
  },
  {
   "cell_type": "code",
   "execution_count": 48,
   "metadata": {},
   "outputs": [],
   "source": [
    "def getByDeviceID(device_id):\n",
    "    df = events[ events[\"device_id\"] == device_id ]\n",
    "    df2 = df.merge(app_events , on=\"event_id\", how=\"inner\")\n",
    "    df2 = df2.merge(app_labels, on=\"app_id\", how=\"left\")\n",
    "    # 0=Hétfő, 1 = Kedd, 2-Szerda, 3-Csüt, 4-Péntek, 5-Szombat, 6-Vas, \n",
    "    df[\"weekday_morning\"] = df['timestamp'].apply(lambda x: checkIfInDOWANdHours(x, [0,1,2,3,4], [6,7,8]))\n",
    "    df[\"weekday_daytime\"] = df['timestamp'].apply(lambda x: checkIfInDOWANdHours(x, [0,1,2,3,4], [9,10,11,12,13,14,15,16,17]))\n",
    "    df[\"weekday_evening\"] = df['timestamp'].apply(lambda x: checkIfInDOWANdHours(x, [0,1,2,3,4], [18,19,20,21]))\n",
    "    df[\"weekday_night1\"] = df['timestamp'].apply(lambda x: checkIfInDOWANdHours(x, [0,1,2,3], [22,23,0,1,2,3,4,5]))\n",
    "    df[\"weekday_night2\"] = df['timestamp'].apply(lambda x: checkIfInDOWANdHours(x, [4], [0,1,2,3,4,5]))\n",
    "    df[\"weekday_night\"] = df[\"weekday_night2\"] + df[\"weekday_night1\"] \n",
    "    df[\"weekend_morning\"] = df['timestamp'].apply(lambda x: checkIfInDOWANdHours(x, [5,6], [6,7,8]))\n",
    "    df[\"weekend_daytime\"] = df['timestamp'].apply(lambda x: checkIfInDOWANdHours(x, [5,6], [9,10,11,12,13,14,15,16,17]))\n",
    "    df[\"weekend_evening\"] = df['timestamp'].apply(lambda x: checkIfInDOWANdHours(x, [5,6], [18,19,20,21]))\n",
    "    df[\"weekend_night1\"] = df['timestamp'].apply(lambda x: checkIfInDOWANdHours(x, [5], [22,23,0,1,2,3,4,5]))    \n",
    "    df[\"weekend_night2\"] = df['timestamp'].apply(lambda x: checkIfInDOWANdHours(x, [6], [22,23]))\n",
    "    df[\"weekend_night3\"] = df['timestamp'].apply(lambda x: checkIfInDOWANdHours(x, [4], [22,23]))\n",
    "    df[\"weekend_night\"] = df[\"weekend_night1\"] + df[\"weekend_night2\"] + df[\"weekend_night3\"]\n",
    "    \n",
    "    return df, df2"
   ]
  },
  {
   "cell_type": "code",
   "execution_count": 49,
   "metadata": {},
   "outputs": [],
   "source": [
    "def calcRow1(device_id):\n",
    "    events1, df = getByDeviceID(device_id)\n",
    "    ret = {}\n",
    "    ret[\"device_id\"] = [device_id]\n",
    "    # esemenyek szama\n",
    "    ret[\"events_num\"] = df.groupby(\"event_id\").agg(\"count\").count().device_id \n",
    "    ret[\"min_timestamp\"] = df['timestamp'].min()\n",
    "    ret[\"max_timestamp\"] = df['timestamp'].max()\n",
    "    ret[\"latitude_events_median\"] = events1[\"latitude\"].agg(\"median\")\n",
    "    ret[\"longitude_events_median\"] = events1[\"longitude\"].agg(\"median\")    \n",
    "    ret[\"events_per_day\"] = pd.Timedelta(pd.to_datetime(ret[\"max_timestamp\"]) - pd.to_datetime(ret[\"min_timestamp\"])).seconds / ret[\"events_num\"] / 60 / 60 / 24\n",
    "    # label_id szamolasok\n",
    "    for r in label_categories[\"label_id_use\"].unique():\n",
    "        colname = \"label_%d\"%r\n",
    "        ret[colname] = [df[(df[\"label_id\"] == r) & (df[\"is_active\"] == 1)].count()[\"device_id\"]]\n",
    "        colname = \"label_i_%d\"%r\n",
    "        ret[colname] = [df[(df[\"label_id\"] == r) & (df[\"is_active\"] == 0)].count()[\"device_id\"]]\n",
    "    for x in [\"weekday_morning\", \"weekday_daytime\", \"weekday_evening\", \"weekday_night\", \"weekend_morning\", \"weekend_daytime\", \"weekend_evening\", \"weekend_night\" ]:\n",
    "        ret[x] = events1[x].sum()\n",
    "    for appIdx in app_events_count.index:\n",
    "        colname = \"app_%d\"%appIdx\n",
    "        cou = df[df[\"app_id\"] == appIdx].count().device_id\n",
    "        #print(\"%s : %d\"%(colname, cou))\n",
    "        ret[colname] = cou\n",
    "\n",
    "    return pd.DataFrame(data=ret)"
   ]
  },
  {
   "cell_type": "code",
   "execution_count": 50,
   "metadata": {},
   "outputs": [],
   "source": [
    "import warnings\n",
    "warnings.filterwarnings('ignore')\n"
   ]
  },
  {
   "cell_type": "code",
   "execution_count": 51,
   "metadata": {},
   "outputs": [
    {
     "data": {
      "text/html": [
       "<div>\n",
       "<style scoped>\n",
       "    .dataframe tbody tr th:only-of-type {\n",
       "        vertical-align: middle;\n",
       "    }\n",
       "\n",
       "    .dataframe tbody tr th {\n",
       "        vertical-align: top;\n",
       "    }\n",
       "\n",
       "    .dataframe thead th {\n",
       "        text-align: right;\n",
       "    }\n",
       "</style>\n",
       "<table border=\"1\" class=\"dataframe\">\n",
       "  <thead>\n",
       "    <tr style=\"text-align: right;\">\n",
       "      <th></th>\n",
       "      <th>event_id</th>\n",
       "      <th>device_id</th>\n",
       "      <th>timestamp</th>\n",
       "      <th>longitude</th>\n",
       "      <th>latitude</th>\n",
       "      <th>app_id</th>\n",
       "      <th>is_installed</th>\n",
       "      <th>is_active</th>\n",
       "      <th>label_id_original</th>\n",
       "      <th>Unnamed: 0</th>\n",
       "      <th>category</th>\n",
       "      <th>not_active_cou</th>\n",
       "      <th>active_cou</th>\n",
       "      <th>all_cou</th>\n",
       "      <th>label_id</th>\n",
       "    </tr>\n",
       "  </thead>\n",
       "  <tbody>\n",
       "    <tr>\n",
       "      <th>0</th>\n",
       "      <td>7665</td>\n",
       "      <td>6352067998666467520</td>\n",
       "      <td>2016-05-05 09:36:50</td>\n",
       "      <td>0.0</td>\n",
       "      <td>0.0</td>\n",
       "      <td>-7377004479023402858</td>\n",
       "      <td>1</td>\n",
       "      <td>0</td>\n",
       "      <td>549</td>\n",
       "      <td>490</td>\n",
       "      <td>Property Industry 1.0</td>\n",
       "      <td>7567242.0</td>\n",
       "      <td>6113200.0</td>\n",
       "      <td>13680442.0</td>\n",
       "      <td>549</td>\n",
       "    </tr>\n",
       "  </tbody>\n",
       "</table>\n",
       "</div>"
      ],
      "text/plain": [
       "   event_id            device_id            timestamp  longitude  latitude  \\\n",
       "0      7665  6352067998666467520  2016-05-05 09:36:50        0.0       0.0   \n",
       "\n",
       "                app_id  is_installed  is_active  label_id_original  \\\n",
       "0 -7377004479023402858             1          0                549   \n",
       "\n",
       "   Unnamed: 0               category  not_active_cou  active_cou     all_cou  \\\n",
       "0         490  Property Industry 1.0       7567242.0   6113200.0  13680442.0   \n",
       "\n",
       "   label_id  \n",
       "0       549  "
      ]
     },
     "execution_count": 51,
     "metadata": {},
     "output_type": "execute_result"
    }
   ],
   "source": [
    "x, y = getByDeviceID(6352067998666467520)\n",
    "y.head(1)\n"
   ]
  },
  {
   "cell_type": "code",
   "execution_count": 52,
   "metadata": {},
   "outputs": [
    {
     "data": {
      "text/html": [
       "<div>\n",
       "<style scoped>\n",
       "    .dataframe tbody tr th:only-of-type {\n",
       "        vertical-align: middle;\n",
       "    }\n",
       "\n",
       "    .dataframe tbody tr th {\n",
       "        vertical-align: top;\n",
       "    }\n",
       "\n",
       "    .dataframe thead th {\n",
       "        text-align: right;\n",
       "    }\n",
       "</style>\n",
       "<table border=\"1\" class=\"dataframe\">\n",
       "  <thead>\n",
       "    <tr style=\"text-align: right;\">\n",
       "      <th></th>\n",
       "      <th>device_id</th>\n",
       "      <th>events_num</th>\n",
       "      <th>min_timestamp</th>\n",
       "      <th>max_timestamp</th>\n",
       "      <th>latitude_events_median</th>\n",
       "      <th>longitude_events_median</th>\n",
       "      <th>events_per_day</th>\n",
       "      <th>label_548</th>\n",
       "      <th>label_i_548</th>\n",
       "      <th>label_704</th>\n",
       "      <th>...</th>\n",
       "      <th>app_-7339430059748502738</th>\n",
       "      <th>app_-1633912854767170738</th>\n",
       "      <th>app_7378912078908392888</th>\n",
       "      <th>app_3352730443702988322</th>\n",
       "      <th>app_-6212537830788600605</th>\n",
       "      <th>app_7971327257373737575</th>\n",
       "      <th>app_9136721329817567486</th>\n",
       "      <th>app_-2145434552412465677</th>\n",
       "      <th>app_6868430133575209713</th>\n",
       "      <th>app_5824972015480403938</th>\n",
       "    </tr>\n",
       "  </thead>\n",
       "  <tbody>\n",
       "    <tr>\n",
       "      <th>0</th>\n",
       "      <td>6352067998666467520</td>\n",
       "      <td>11</td>\n",
       "      <td>2016-05-03 22:14:30</td>\n",
       "      <td>2016-05-05 17:27:58</td>\n",
       "      <td>0.0</td>\n",
       "      <td>0.0</td>\n",
       "      <td>0.07282</td>\n",
       "      <td>70</td>\n",
       "      <td>34</td>\n",
       "      <td>57</td>\n",
       "      <td>...</td>\n",
       "      <td>0</td>\n",
       "      <td>0</td>\n",
       "      <td>0</td>\n",
       "      <td>0</td>\n",
       "      <td>0</td>\n",
       "      <td>0</td>\n",
       "      <td>0</td>\n",
       "      <td>0</td>\n",
       "      <td>0</td>\n",
       "      <td>0</td>\n",
       "    </tr>\n",
       "  </tbody>\n",
       "</table>\n",
       "<p>1 rows × 210 columns</p>\n",
       "</div>"
      ],
      "text/plain": [
       "             device_id  events_num        min_timestamp        max_timestamp  \\\n",
       "0  6352067998666467520          11  2016-05-03 22:14:30  2016-05-05 17:27:58   \n",
       "\n",
       "   latitude_events_median  longitude_events_median  events_per_day  label_548  \\\n",
       "0                     0.0                      0.0         0.07282         70   \n",
       "\n",
       "   label_i_548  label_704  ...  app_-7339430059748502738  \\\n",
       "0           34         57  ...                         0   \n",
       "\n",
       "   app_-1633912854767170738  app_7378912078908392888  app_3352730443702988322  \\\n",
       "0                         0                        0                        0   \n",
       "\n",
       "   app_-6212537830788600605  app_7971327257373737575  app_9136721329817567486  \\\n",
       "0                         0                        0                        0   \n",
       "\n",
       "   app_-2145434552412465677  app_6868430133575209713  app_5824972015480403938  \n",
       "0                         0                        0                        0  \n",
       "\n",
       "[1 rows x 210 columns]"
      ]
     },
     "execution_count": 52,
     "metadata": {},
     "output_type": "execute_result"
    }
   ],
   "source": [
    "calcRow1(6352067998666467520)\n",
    "#calcRow1(520)\n"
   ]
  },
  {
   "cell_type": "code",
   "execution_count": 59,
   "metadata": {},
   "outputs": [
    {
     "name": "stdout",
     "output_type": "stream",
     "text": [
      "Start -8076087639492063270\n",
      "Start -2897161552818060146\n",
      "Start -8260683887967679142\n",
      "Start -4938849341048082022\n",
      "Start 245133531816851882\n",
      "Start -1297074871525174196\n",
      "Start 236877999787307864\n",
      "Start -8098239495777311881\n",
      "Start 176515041953473526\n",
      "Start 1596610250680140042\n",
      "Processed: %d 10\n",
      "Start 9032155484127182494\n",
      "Start 7477216237379271436\n",
      "Start 2478205222798310601\n",
      "Start 6352067998666467520\n",
      "Start -7605360767281960867\n",
      "Start 1508636020748379883\n",
      "Start 4380872794486415327\n",
      "Start -1039701474753771322\n",
      "Start -6876541075223249434\n",
      "Start 6287938418661076759\n",
      "Processed: %d 20\n",
      "Start -6029676723224952628\n",
      "Start 8026504930081700361\n",
      "Start 1118970699362079126\n",
      "Start -7271319853104672050\n",
      "Start -9216966316587614491\n",
      "Start -4913644674161904021\n",
      "Start 2313145512701915151\n",
      "Start 4309468945717577632\n",
      "Start -4547337748907986143\n",
      "Start -7216269352973401877\n",
      "Processed: %d 30\n",
      "Start -7303294878482532208\n",
      "Start 7630241409816671260\n",
      "Start 7106922851105968241\n",
      "Start -5825546292084395293\n",
      "Start 5886404762741543631\n",
      "Start 3444770318780911055\n",
      "Start 3549658489155683094\n",
      "Start -7360652256644378412\n",
      "Start -3207654344601946580\n",
      "Start -1279883160764317574\n",
      "Processed: %d 40\n",
      "Start 3014072209520807550\n",
      "Start -2871140782885206484\n",
      "Start -5070177130701218827\n",
      "Start -1539979963116391306\n",
      "Start -5349338524207284103\n",
      "Start -147287084274333707\n",
      "Start -5712152567169524766\n",
      "Start -3305321723886863103\n",
      "Start -800851341622326751\n",
      "Start 6870382681059864892\n",
      "Processed: %d 50\n",
      "Start -1173303210238773591\n",
      "Start 6677393742805480020\n",
      "Start 1865480732945072123\n",
      "Start 336916678843446187\n",
      "Start 670584488453511085\n",
      "Start 5874501925603975585\n",
      "Start -7058264257379185672\n",
      "Start -7731743086143077949\n",
      "Start -1457089681368225820\n",
      "Start 3098621662950438701\n",
      "Processed: %d 60\n",
      "Start -3563791052716940236\n",
      "Start -5348866880284858420\n",
      "Start -4180524547237520433\n",
      "Start -8428853393823283356\n",
      "Start -6290480893520011063\n",
      "Start 6223951438363242934\n",
      "Start -4370696809239943432\n",
      "Start -6083834394280548453\n",
      "Start -1246353335731124816\n",
      "Start -6552729385743211\n",
      "Processed: %d 70\n",
      "Start 5938577683122528158\n",
      "Start -3235628390898753137\n",
      "Start -4144208717804687615\n",
      "Start 8844957623159520450\n",
      "Start 4156261305872406545\n",
      "Start -6785797459639810711\n",
      "Start -8080952034040064218\n",
      "Start 6354951364862886829\n",
      "Start -7789505157081731608\n",
      "Start 8240579676061663826\n",
      "Processed: %d 80\n",
      "Start 5439866249778803748\n",
      "Start -8140024683963050427\n",
      "Start -360168846769617446\n",
      "Start 4049342567374065020\n",
      "Start 5660846220747791709\n",
      "Start 2346793034696706898\n",
      "Start -4924030293291439654\n",
      "Start 1676196645503737870\n",
      "Start 4922799967163614958\n",
      "Start -6571452454273901516\n",
      "Processed: %d 90\n",
      "Start -2056729718209154009\n",
      "Start 404958689637790744\n",
      "Start 6895504244645409122\n",
      "Start -7882183570062087941\n",
      "Start 5446913796434345063\n",
      "Start -3859751359584472885\n",
      "Start 5662094349477792975\n",
      "Start -4650666927489443566\n",
      "Start 3804056002627416258\n",
      "Start -8266281880829904174\n",
      "Processed: %d 100\n",
      "Start 5973319239886062800\n"
     ]
    }
   ],
   "source": [
    "# sorra megyunk a device_id-kon. Eleg lassu lesz\n",
    "limit = 100000\n",
    "cou = 0\n",
    "df_train = None\n",
    "max = len(gender_age_train[\"device_id\"].unique())\n",
    "for r in gender_age_train[\"device_id\"].unique():\n",
    "    #print(\"Start\", r)\n",
    "    x = calcRow1(r)\n",
    "    if df_train is None:\n",
    "        df_train = x\n",
    "    else:\n",
    "        df_train = df_train.append(x)\n",
    "    limit = limit -1\n",
    "    cou = cou + 1\n",
    "    if cou % 100 == 0:\n",
    "        print(\"Processed %d / %d\"%(max, cou))\n",
    "    if limit < 0 :\n",
    "        break\n",
    "df_train.head()\n",
    "df_train = df_train.merge(gender_age_train, on=\"device_id\", how=\"inner\")\n",
    "df_train = df_train.merge(phone_brand_device_model, on=\"device_id\", how=\"left\")\n",
    "df_train.to_csv(output_dataset_name)"
   ]
  },
  {
   "cell_type": "code",
   "execution_count": 54,
   "metadata": {},
   "outputs": [
    {
     "data": {
      "text/html": [
       "<div>\n",
       "<style scoped>\n",
       "    .dataframe tbody tr th:only-of-type {\n",
       "        vertical-align: middle;\n",
       "    }\n",
       "\n",
       "    .dataframe tbody tr th {\n",
       "        vertical-align: top;\n",
       "    }\n",
       "\n",
       "    .dataframe thead th {\n",
       "        text-align: right;\n",
       "    }\n",
       "</style>\n",
       "<table border=\"1\" class=\"dataframe\">\n",
       "  <thead>\n",
       "    <tr style=\"text-align: right;\">\n",
       "      <th></th>\n",
       "      <th>device_id</th>\n",
       "      <th>events_num</th>\n",
       "      <th>min_timestamp</th>\n",
       "      <th>max_timestamp</th>\n",
       "      <th>latitude_events_median</th>\n",
       "      <th>longitude_events_median</th>\n",
       "      <th>events_per_day</th>\n",
       "      <th>label_548</th>\n",
       "      <th>label_i_548</th>\n",
       "      <th>label_704</th>\n",
       "      <th>...</th>\n",
       "      <th>app_9136721329817567486</th>\n",
       "      <th>app_-2145434552412465677</th>\n",
       "      <th>app_6868430133575209713</th>\n",
       "      <th>app_5824972015480403938</th>\n",
       "      <th>gender</th>\n",
       "      <th>age</th>\n",
       "      <th>group</th>\n",
       "      <th>phone_brand</th>\n",
       "      <th>device_model</th>\n",
       "      <th>phone_brand_eng</th>\n",
       "    </tr>\n",
       "  </thead>\n",
       "  <tbody>\n",
       "    <tr>\n",
       "      <th>0</th>\n",
       "      <td>-8076087639492063270</td>\n",
       "      <td>0</td>\n",
       "      <td>NaN</td>\n",
       "      <td>NaN</td>\n",
       "      <td>NaN</td>\n",
       "      <td>NaN</td>\n",
       "      <td>NaN</td>\n",
       "      <td>0</td>\n",
       "      <td>0</td>\n",
       "      <td>0</td>\n",
       "      <td>...</td>\n",
       "      <td>0</td>\n",
       "      <td>0</td>\n",
       "      <td>0</td>\n",
       "      <td>0</td>\n",
       "      <td>M</td>\n",
       "      <td>35</td>\n",
       "      <td>M32-38</td>\n",
       "      <td>小米</td>\n",
       "      <td>MI 2</td>\n",
       "      <td>Xiaomi</td>\n",
       "    </tr>\n",
       "    <tr>\n",
       "      <th>1</th>\n",
       "      <td>-2897161552818060146</td>\n",
       "      <td>0</td>\n",
       "      <td>NaN</td>\n",
       "      <td>NaN</td>\n",
       "      <td>NaN</td>\n",
       "      <td>NaN</td>\n",
       "      <td>NaN</td>\n",
       "      <td>0</td>\n",
       "      <td>0</td>\n",
       "      <td>0</td>\n",
       "      <td>...</td>\n",
       "      <td>0</td>\n",
       "      <td>0</td>\n",
       "      <td>0</td>\n",
       "      <td>0</td>\n",
       "      <td>M</td>\n",
       "      <td>35</td>\n",
       "      <td>M32-38</td>\n",
       "      <td>小米</td>\n",
       "      <td>MI 2</td>\n",
       "      <td>Xiaomi</td>\n",
       "    </tr>\n",
       "    <tr>\n",
       "      <th>2</th>\n",
       "      <td>-8260683887967679142</td>\n",
       "      <td>1</td>\n",
       "      <td>2016-05-01 14:23:37</td>\n",
       "      <td>2016-05-01 14:23:37</td>\n",
       "      <td>0.0</td>\n",
       "      <td>0.0</td>\n",
       "      <td>0.0</td>\n",
       "      <td>5</td>\n",
       "      <td>30</td>\n",
       "      <td>3</td>\n",
       "      <td>...</td>\n",
       "      <td>0</td>\n",
       "      <td>6</td>\n",
       "      <td>0</td>\n",
       "      <td>0</td>\n",
       "      <td>M</td>\n",
       "      <td>35</td>\n",
       "      <td>M32-38</td>\n",
       "      <td>小米</td>\n",
       "      <td>MI 2</td>\n",
       "      <td>Xiaomi</td>\n",
       "    </tr>\n",
       "    <tr>\n",
       "      <th>3</th>\n",
       "      <td>-4938849341048082022</td>\n",
       "      <td>0</td>\n",
       "      <td>NaN</td>\n",
       "      <td>NaN</td>\n",
       "      <td>NaN</td>\n",
       "      <td>NaN</td>\n",
       "      <td>NaN</td>\n",
       "      <td>0</td>\n",
       "      <td>0</td>\n",
       "      <td>0</td>\n",
       "      <td>...</td>\n",
       "      <td>0</td>\n",
       "      <td>0</td>\n",
       "      <td>0</td>\n",
       "      <td>0</td>\n",
       "      <td>M</td>\n",
       "      <td>30</td>\n",
       "      <td>M29-31</td>\n",
       "      <td>小米</td>\n",
       "      <td>红米note</td>\n",
       "      <td>Xiaomi</td>\n",
       "    </tr>\n",
       "    <tr>\n",
       "      <th>4</th>\n",
       "      <td>245133531816851882</td>\n",
       "      <td>0</td>\n",
       "      <td>NaN</td>\n",
       "      <td>NaN</td>\n",
       "      <td>NaN</td>\n",
       "      <td>NaN</td>\n",
       "      <td>NaN</td>\n",
       "      <td>0</td>\n",
       "      <td>0</td>\n",
       "      <td>0</td>\n",
       "      <td>...</td>\n",
       "      <td>0</td>\n",
       "      <td>0</td>\n",
       "      <td>0</td>\n",
       "      <td>0</td>\n",
       "      <td>M</td>\n",
       "      <td>30</td>\n",
       "      <td>M29-31</td>\n",
       "      <td>小米</td>\n",
       "      <td>MI 3</td>\n",
       "      <td>Xiaomi</td>\n",
       "    </tr>\n",
       "  </tbody>\n",
       "</table>\n",
       "<p>5 rows × 216 columns</p>\n",
       "</div>"
      ],
      "text/plain": [
       "             device_id  events_num        min_timestamp        max_timestamp  \\\n",
       "0 -8076087639492063270           0                  NaN                  NaN   \n",
       "1 -2897161552818060146           0                  NaN                  NaN   \n",
       "2 -8260683887967679142           1  2016-05-01 14:23:37  2016-05-01 14:23:37   \n",
       "3 -4938849341048082022           0                  NaN                  NaN   \n",
       "4   245133531816851882           0                  NaN                  NaN   \n",
       "\n",
       "   latitude_events_median  longitude_events_median  events_per_day  label_548  \\\n",
       "0                     NaN                      NaN             NaN          0   \n",
       "1                     NaN                      NaN             NaN          0   \n",
       "2                     0.0                      0.0             0.0          5   \n",
       "3                     NaN                      NaN             NaN          0   \n",
       "4                     NaN                      NaN             NaN          0   \n",
       "\n",
       "   label_i_548  label_704  ...  app_9136721329817567486  \\\n",
       "0            0          0  ...                        0   \n",
       "1            0          0  ...                        0   \n",
       "2           30          3  ...                        0   \n",
       "3            0          0  ...                        0   \n",
       "4            0          0  ...                        0   \n",
       "\n",
       "   app_-2145434552412465677  app_6868430133575209713  app_5824972015480403938  \\\n",
       "0                         0                        0                        0   \n",
       "1                         0                        0                        0   \n",
       "2                         6                        0                        0   \n",
       "3                         0                        0                        0   \n",
       "4                         0                        0                        0   \n",
       "\n",
       "   gender  age   group  phone_brand  device_model  phone_brand_eng  \n",
       "0       M   35  M32-38           小米          MI 2           Xiaomi  \n",
       "1       M   35  M32-38           小米          MI 2           Xiaomi  \n",
       "2       M   35  M32-38           小米          MI 2           Xiaomi  \n",
       "3       M   30  M29-31           小米        红米note           Xiaomi  \n",
       "4       M   30  M29-31           小米          MI 3           Xiaomi  \n",
       "\n",
       "[5 rows x 216 columns]"
      ]
     },
     "execution_count": 54,
     "metadata": {},
     "output_type": "execute_result"
    }
   ],
   "source": [
    "df_train.head()"
   ]
  },
  {
   "cell_type": "code",
   "execution_count": 58,
   "metadata": {},
   "outputs": [
    {
     "data": {
      "text/plain": [
       "array([-8076087639492063270, -2897161552818060146, -8260683887967679142,\n",
       "       ...,   180946546684162312,  1390702386071991851,\n",
       "          89181010588227347])"
      ]
     },
     "execution_count": 58,
     "metadata": {},
     "output_type": "execute_result"
    }
   ],
   "source": [
    "gender_age_train[\"device_id\"].unique()"
   ]
  }
 ],
 "metadata": {
  "kernelspec": {
   "display_name": "Python 3",
   "language": "python",
   "name": "python3"
  },
  "language_info": {
   "codemirror_mode": {
    "name": "ipython",
    "version": 3
   },
   "file_extension": ".py",
   "mimetype": "text/x-python",
   "name": "python",
   "nbconvert_exporter": "python",
   "pygments_lexer": "ipython3",
   "version": "3.7.3"
  }
 },
 "nbformat": 4,
 "nbformat_minor": 2
}
