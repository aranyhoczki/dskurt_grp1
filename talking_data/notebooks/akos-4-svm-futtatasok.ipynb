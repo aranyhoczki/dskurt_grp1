{
 "cells": [
  {
   "cell_type": "code",
   "execution_count": 1,
   "metadata": {},
   "outputs": [],
   "source": [
    "import pandas as pd  # pandas\n",
    "import numpy as np\n",
    "import matplotlib.pyplot as plt\n",
    "%matplotlib inline"
   ]
  },
  {
   "cell_type": "markdown",
   "metadata": {},
   "source": [
    "##  XGBoost\n",
    "https://www.kaggle.com/tilii7/xgboost-simple-starter-more-features"
   ]
  },
  {
   "cell_type": "code",
   "execution_count": 2,
   "metadata": {},
   "outputs": [
    {
     "name": "stderr",
     "output_type": "stream",
     "text": [
      "/var/local/conda/anaconda3/lib/python3.7/site-packages/sklearn/externals/joblib/__init__.py:15: FutureWarning: sklearn.externals.joblib is deprecated in 0.21 and will be removed in 0.23. Please import this functionality directly from joblib, which can be installed with: pip install joblib. If this warning is raised when loading pickled models, you may need to re-serialize those models with scikit-learn 0.21+.\n",
      "  warnings.warn(msg, category=FutureWarning)\n"
     ]
    }
   ],
   "source": [
    "#Importing Libraries\n",
    "import numpy as np\n",
    "import pandas as pd\n",
    "from sklearn.model_selection import train_test_split\n",
    "from sklearn.preprocessing import StandardScaler\n",
    "from sklearn.metrics import confusion_matrix\n",
    "from sklearn.externals import joblib\n",
    "from sklearn import metrics\n",
    "import xgboost as xgb\n",
    "from sklearn.metrics import log_loss\n",
    "from operator import itemgetter\n",
    "from sklearn import svm\n",
    "from sklearn.preprocessing import StandardScaler\n"
   ]
  },
  {
   "cell_type": "code",
   "execution_count": 3,
   "metadata": {},
   "outputs": [
    {
     "data": {
      "text/html": [
       "<div>\n",
       "<style scoped>\n",
       "    .dataframe tbody tr th:only-of-type {\n",
       "        vertical-align: middle;\n",
       "    }\n",
       "\n",
       "    .dataframe tbody tr th {\n",
       "        vertical-align: top;\n",
       "    }\n",
       "\n",
       "    .dataframe thead th {\n",
       "        text-align: right;\n",
       "    }\n",
       "</style>\n",
       "<table border=\"1\" class=\"dataframe\">\n",
       "  <thead>\n",
       "    <tr style=\"text-align: right;\">\n",
       "      <th></th>\n",
       "      <th>Unnamed: 0</th>\n",
       "      <th>device_id</th>\n",
       "      <th>events_num</th>\n",
       "      <th>min_timestamp</th>\n",
       "      <th>max_timestamp</th>\n",
       "      <th>latitude_events_median</th>\n",
       "      <th>longitude_events_median</th>\n",
       "      <th>events_per_day</th>\n",
       "      <th>label_548</th>\n",
       "      <th>label_i_548</th>\n",
       "      <th>...</th>\n",
       "      <th>app_9136721329817567486</th>\n",
       "      <th>app_-2145434552412465677</th>\n",
       "      <th>app_6868430133575209713</th>\n",
       "      <th>app_5824972015480403938</th>\n",
       "      <th>gender</th>\n",
       "      <th>age</th>\n",
       "      <th>group</th>\n",
       "      <th>phone_brand</th>\n",
       "      <th>device_model</th>\n",
       "      <th>phone_brand_eng</th>\n",
       "    </tr>\n",
       "  </thead>\n",
       "  <tbody>\n",
       "    <tr>\n",
       "      <th>0</th>\n",
       "      <td>0</td>\n",
       "      <td>-8076087639492063270</td>\n",
       "      <td>0</td>\n",
       "      <td>NaN</td>\n",
       "      <td>NaN</td>\n",
       "      <td>NaN</td>\n",
       "      <td>NaN</td>\n",
       "      <td>NaN</td>\n",
       "      <td>0</td>\n",
       "      <td>0</td>\n",
       "      <td>...</td>\n",
       "      <td>0</td>\n",
       "      <td>0</td>\n",
       "      <td>0</td>\n",
       "      <td>0</td>\n",
       "      <td>M</td>\n",
       "      <td>35</td>\n",
       "      <td>M32-38</td>\n",
       "      <td>小米</td>\n",
       "      <td>MI 2</td>\n",
       "      <td>Xiaomi</td>\n",
       "    </tr>\n",
       "  </tbody>\n",
       "</table>\n",
       "<p>1 rows × 217 columns</p>\n",
       "</div>"
      ],
      "text/plain": [
       "   Unnamed: 0            device_id  events_num min_timestamp max_timestamp  \\\n",
       "0           0 -8076087639492063270           0           NaN           NaN   \n",
       "\n",
       "   latitude_events_median  longitude_events_median  events_per_day  label_548  \\\n",
       "0                     NaN                      NaN             NaN          0   \n",
       "\n",
       "   label_i_548  ...  app_9136721329817567486  app_-2145434552412465677  \\\n",
       "0            0  ...                        0                         0   \n",
       "\n",
       "   app_6868430133575209713  app_5824972015480403938  gender  age   group  \\\n",
       "0                        0                        0       M   35  M32-38   \n",
       "\n",
       "   phone_brand  device_model  phone_brand_eng  \n",
       "0           小米          MI 2           Xiaomi  \n",
       "\n",
       "[1 rows x 217 columns]"
      ]
     },
     "execution_count": 3,
     "metadata": {},
     "output_type": "execute_result"
    }
   ],
   "source": [
    "df_train = pd.read_csv(\"../datasets/train1_50labels_withdaytimes_app60000.csv\", sep=\",\")\n",
    "#df_train = df_train.set_index(\"device_id\")\n",
    "#df_train.drop(columns=[\"Unnamed: 0\"], inplace=True)\n",
    "df_train.head(1)"
   ]
  },
  {
   "cell_type": "code",
   "execution_count": 4,
   "metadata": {},
   "outputs": [],
   "source": [
    "## TODO : nan, infiniti -> 0\n",
    "df_train.replace([np.inf, -np.inf], np.nan, inplace=True)\n",
    "df_train.fillna(0, inplace=True)"
   ]
  },
  {
   "cell_type": "code",
   "execution_count": 5,
   "metadata": {},
   "outputs": [],
   "source": [
    "# factorize\n",
    "if True:\n",
    "    factor = pd.factorize(df_train['phone_brand_eng'])\n",
    "    df_train.phone_brand_eng = factor[0]\n",
    "    definitions_phone_brand_eng = factor[1]\n",
    "    factor = pd.factorize(df_train['device_model'])\n",
    "    df_train.device_model = factor[0]\n",
    "    definitions_device_model = factor[1]\n",
    "    factor = pd.factorize(df_train['group'])\n",
    "    df_train.group = factor[0]\n",
    "    definitions = factor[1]"
   ]
  },
  {
   "cell_type": "code",
   "execution_count": 6,
   "metadata": {},
   "outputs": [
    {
     "data": {
      "text/html": [
       "<div>\n",
       "<style scoped>\n",
       "    .dataframe tbody tr th:only-of-type {\n",
       "        vertical-align: middle;\n",
       "    }\n",
       "\n",
       "    .dataframe tbody tr th {\n",
       "        vertical-align: top;\n",
       "    }\n",
       "\n",
       "    .dataframe thead th {\n",
       "        text-align: right;\n",
       "    }\n",
       "</style>\n",
       "<table border=\"1\" class=\"dataframe\">\n",
       "  <thead>\n",
       "    <tr style=\"text-align: right;\">\n",
       "      <th></th>\n",
       "      <th>phone_brand_eng</th>\n",
       "      <th>device_model</th>\n",
       "      <th>group</th>\n",
       "    </tr>\n",
       "  </thead>\n",
       "  <tbody>\n",
       "    <tr>\n",
       "      <th>0</th>\n",
       "      <td>0</td>\n",
       "      <td>0</td>\n",
       "      <td>0</td>\n",
       "    </tr>\n",
       "  </tbody>\n",
       "</table>\n",
       "</div>"
      ],
      "text/plain": [
       "   phone_brand_eng  device_model  group\n",
       "0                0             0      0"
      ]
     },
     "execution_count": 6,
     "metadata": {},
     "output_type": "execute_result"
    }
   ],
   "source": [
    "df_train_events=df_train[df_train[\"events_num\"] > 0]\n",
    "df_train_noevents=df_train[df_train[\"events_num\"] == 0][[\"phone_brand_eng\", \"device_model\", \"group\"]]\n",
    "df_train_noevents.head(1)"
   ]
  },
  {
   "cell_type": "code",
   "execution_count": 7,
   "metadata": {},
   "outputs": [],
   "source": [
    "def doSVM(df_train, magyarazo_valtozok):\n",
    "\n",
    "    # split\n",
    "    X_train, X_test, y_train, y_test = train_test_split(df_train[magyarazo_valtozok], df_train['group'], test_size=0.1,random_state=109) # 90% training and 10% test\n",
    "        \n",
    "    scaler = StandardScaler().fit(X_train)  \n",
    "    X_train_scd = pd.DataFrame(scaler.transform(X_train))\n",
    "    X_train_scd.columns = X_train.columns\n",
    "    X_test_scd = pd.DataFrame(scaler.transform(X_test))\n",
    "    X_test_scd.columns = X_test.columns\n",
    "    X_test_scd.head()\n",
    "        #Create a svm Classifier\n",
    "    clf = svm.SVC(kernel='linear', probability=True) # Linear Kernel rbf/linear\n",
    "    #Train the model using the training sets\n",
    "    clf.fit(X_train_scd, y_train)\n",
    "    #Predict the response for test dataset\n",
    "    y_pred = clf.predict_proba(X_test_scd)\n",
    "    \n",
    "    #imp,names = zip(*sorted(zip(clf.coef_,magyarazo_valtozok)))\n",
    "    #print(clf.coef_)\n",
    "    #print(magyarazo_valtozok)\n",
    "    #feature_importances = pd.DataFrame((magyarazo_valtozok, clf.coef_),\n",
    "    #                               index = X_train.columns,\n",
    "    #                                columns=['importance']).sort_values('importance', ascending=False)\n",
    "    score = log_loss(y_test.tolist(), y_pred)\n",
    "    p = metrics.accuracy_score(y_test, np.argmax(y_pred, axis=1))\n",
    "    #p = metrics.accuracy_score(y_test, y_pred)\n",
    "\n",
    "\n",
    "    return clf.coef_, score, p\n",
    "    \n",
    "\n",
    "    "
   ]
  },
  {
   "cell_type": "code",
   "execution_count": null,
   "metadata": {},
   "outputs": [],
   "source": []
  },
  {
   "cell_type": "code",
   "execution_count": 8,
   "metadata": {},
   "outputs": [],
   "source": [
    "results = {}\n"
   ]
  },
  {
   "cell_type": "code",
   "execution_count": 9,
   "metadata": {},
   "outputs": [],
   "source": [
    "magyarazo_valtozok_app_label = []\n",
    "for m in df_train.columns:\n",
    "    if m not in ['Unnamed: 0', 'device_id', 'min_timestamp', 'max_timestamp','gender', 'age', 'group', 'phone_brand' ]:\n",
    "        magyarazo_valtozok_app_label += [m]\n",
    "        \n",
    "magyarazo_valtozok_app = []\n",
    "for m in df_train.columns:\n",
    "    if m not in ['Unnamed: 0', 'device_id', 'min_timestamp', 'max_timestamp','gender', 'age', 'group', 'phone_brand' ]:\n",
    "        if m.startswith(\"label_\"):\n",
    "            continue\n",
    "        magyarazo_valtozok_app += [m]\n",
    "\n",
    "magyarazo_valtozok_label = []\n",
    "for m in df_train.columns:\n",
    "    if m not in ['Unnamed: 0', 'device_id', 'min_timestamp', 'max_timestamp','gender', 'age', 'group', 'phone_brand' ]:\n",
    "        if m.startswith(\"app_\"):\n",
    "            continue\n",
    "        magyarazo_valtozok_label += [m]\n",
    "\n",
    "magyarazo_valtozok_nolabel_noapp = []\n",
    "for m in df_train.columns:\n",
    "    if m not in ['Unnamed: 0', 'device_id', 'min_timestamp', 'max_timestamp','gender', 'age', 'group', 'phone_brand' ]:\n",
    "        if m.startswith(\"app_\"):\n",
    "            continue\n",
    "        if m.startswith(\"label_\"):\n",
    "            continue            \n",
    "        magyarazo_valtozok_nolabel_noapp += [m]\n",
    "\n",
    "        \n",
    "        \n",
    "magyarazo_valtozok_no_events = []\n",
    "for m in df_train_noevents.columns:\n",
    "    if m not in ['Unnamed: 0', 'device_id', 'min_timestamp', 'max_timestamp','gender', 'age', 'group', 'phone_brand' ]:\n",
    "        magyarazo_valtozok_no_events += [m]\n",
    "\n"
   ]
  },
  {
   "cell_type": "code",
   "execution_count": null,
   "metadata": {},
   "outputs": [],
   "source": []
  },
  {
   "cell_type": "code",
   "execution_count": null,
   "metadata": {
    "scrolled": true
   },
   "outputs": [],
   "source": [
    "results={}\n",
    "results[\"NoEvent, Event - Label:yes, App:yes\"] = (doSVM(df_train, magyarazo_valtozok_app_label))\n",
    "results[\"NoEvent, Event - Label:no, App:yes\"] = (doSVM(df_train, magyarazo_valtozok_app))\n",
    "results[\"NoEvent, Event - Label:yes, App:no\"] = (doSVM(df_train, magyarazo_valtozok_label))\n",
    "results[\"NoEvent, Event - Label:no, App:no\"] = (doSVM(df_train, magyarazo_valtozok_nolabel_noapp))\n",
    "results[\"Event - Label:yes, App:yes\"] = (doSVM(df_train_events, magyarazo_valtozok_app_label))\n",
    "results[\"Event - Label:no, App:yes\"] = (doSVM(df_train_events, magyarazo_valtozok_app))\n",
    "results[\"Event - Label:yes, App:no\"] = (doSVM(df_train_events, magyarazo_valtozok_label))\n",
    "results[\"Event - Label:no, App:no\"] = (doSVM(df_train_events, magyarazo_valtozok_nolabel_noapp))\n",
    "results[\"NoEvent\"] = (doSVM(df_train_noevents, magyarazo_valtozok_no_events))\n"
   ]
  },
  {
   "cell_type": "code",
   "execution_count": null,
   "metadata": {},
   "outputs": [],
   "source": []
  },
  {
   "cell_type": "code",
   "execution_count": null,
   "metadata": {
    "scrolled": false
   },
   "outputs": [],
   "source": [
    "\n",
    "for i in results:\n",
    "    print(\"%s - Log loss: %f, Accuary:%f\"%(i, results[i][1], results[i][2]))\n",
    "    continue\n",
    "    importance = results[i][0][:30]\n",
    "    # Plot the feature importances of the forest\n",
    "    df1 = pd.DataFrame(importance)\n",
    "    df1.rename(columns={0:\"feature\", 1:\"cou\"}, inplace=True)\n",
    "    df1=df1.set_index(\"feature\")\n",
    "    df1.plot.bar(title=\"%s - Log loss: %f, Accuary:%f\"%(i,results[i][1], results[i][2]), figsize=(14, 7))"
   ]
  },
  {
   "cell_type": "code",
   "execution_count": null,
   "metadata": {},
   "outputs": [],
   "source": []
  },
  {
   "cell_type": "code",
   "execution_count": null,
   "metadata": {},
   "outputs": [],
   "source": []
  },
  {
   "cell_type": "code",
   "execution_count": null,
   "metadata": {},
   "outputs": [],
   "source": [
    "\n"
   ]
  },
  {
   "cell_type": "code",
   "execution_count": null,
   "metadata": {},
   "outputs": [],
   "source": []
  },
  {
   "cell_type": "code",
   "execution_count": null,
   "metadata": {},
   "outputs": [],
   "source": []
  },
  {
   "cell_type": "code",
   "execution_count": null,
   "metadata": {},
   "outputs": [],
   "source": []
  }
 ],
 "metadata": {
  "kernelspec": {
   "display_name": "Python 3",
   "language": "python",
   "name": "python3"
  },
  "language_info": {
   "codemirror_mode": {
    "name": "ipython",
    "version": 3
   },
   "file_extension": ".py",
   "mimetype": "text/x-python",
   "name": "python",
   "nbconvert_exporter": "python",
   "pygments_lexer": "ipython3",
   "version": "3.7.3"
  }
 },
 "nbformat": 4,
 "nbformat_minor": 2
}
